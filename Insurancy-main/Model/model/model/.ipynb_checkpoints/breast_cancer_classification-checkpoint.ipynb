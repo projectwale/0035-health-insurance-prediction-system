{
 "cells": [
  {
   "cell_type": "code",
   "execution_count": null,
   "metadata": {
    "id": "Bjjzmh-HYnh-"
   },
   "outputs": [],
   "source": [
    "# import tensorflow as tf\n",
    "# tf.config.experimental.list_physical_devices('GPU')\n",
    "# gpus = tf.config.experimental.list_physical_devices('GPU')\n",
    "# if gpus:\n",
    "#     # Restrict TensorFlow to only allocate 1GB * 2 of memory on the first GPU\n",
    "#     try:\n",
    "#         tf.config.experimental.set_virtual_device_configuration(\n",
    "#             gpus[0],\n",
    "#             [tf.config.experimental.VirtualDeviceConfiguration(memory_limit=1024 * 2)])\n",
    "#         logical_gpus = tf.config.experimental.list_logical_devices('GPU')\n",
    "#         print(len(gpus), \"Physical GPUs,\", len(logical_gpus), \"Logical GPUs\")\n",
    "#     except RuntimeError as e:\n",
    "#         # Virtual devices must be set before GPUs have been initialized\n",
    "#         print(e)"
   ]
  },
  {
   "cell_type": "code",
   "execution_count": null,
   "metadata": {
    "id": "P93p7H39YxjS"
   },
   "outputs": [],
   "source": [
    "import pandas as pd\n",
    "import seaborn as sns\n",
    "import matplotlib.pyplot as plt\n",
    "import numpy as np\n",
    "import os,cv2\n",
    "from tensorflow.keras import applications\n",
    "from tensorflow.keras import layers\n",
    "from tensorflow.keras import optimizers\n",
    "from tensorflow.keras.models import Sequential ,Model, load_model\n",
    "from tensorflow.keras.layers import Dropout, Flatten, Dense ,Dropout\n",
    "from tensorflow.keras.callbacks import ModelCheckpoint, LearningRateScheduler, EarlyStopping, ReduceLROnPlateau, TensorBoard\n",
    "from sklearn.metrics import classification_report, confusion_matrix\n",
    "import seaborn as sns\n",
    "from tqdm.notebook import tqdm_notebook\n",
    "import time"
   ]
  },
  {
   "cell_type": "code",
   "execution_count": null,
   "metadata": {
    "colab": {
     "base_uri": "https://localhost:8080/"
    },
    "id": "9TpiwUebY5T9",
    "outputId": "b12bd8db-b7ce-4b37-a4eb-401a680ad7bb"
   },
   "outputs": [
    {
     "name": "stdout",
     "output_type": "stream",
     "text": [
      "Drive already mounted at /content/gdrive; to attempt to forcibly remount, call drive.mount(\"/content/gdrive\", force_remount=True).\n"
     ]
    }
   ],
   "source": [
    "from google.colab import drive\n",
    "drive.mount('/content/gdrive')"
   ]
  },
  {
   "cell_type": "code",
   "execution_count": null,
   "metadata": {
    "id": "zkcYP2zhZDy8"
   },
   "outputs": [],
   "source": [
    "# directory=\"Dataset/\"\n",
    "\n",
    "directory=\"/content/gdrive/MyDrive/Projects/Breast_cancer/Dataset/\"\n",
    "classses=os.listdir(directory)\n",
    "accuracy_list = []"
   ]
  },
  {
   "cell_type": "code",
   "execution_count": null,
   "metadata": {
    "colab": {
     "base_uri": "https://localhost:8080/"
    },
    "id": "USAazwAlZfhm",
    "outputId": "9d443c6d-777f-427a-8451-2db197b8d438"
   },
   "outputs": [
    {
     "data": {
      "text/plain": [
       "['malignant', 'benign', 'normal']"
      ]
     },
     "execution_count": 48,
     "metadata": {},
     "output_type": "execute_result"
    }
   ],
   "source": [
    "classses"
   ]
  },
  {
   "cell_type": "code",
   "execution_count": null,
   "metadata": {
    "colab": {
     "base_uri": "https://localhost:8080/"
    },
    "id": "NUxD9kyJZg73",
    "outputId": "4fd06331-7fb1-4bda-a36e-dbf62f24ac68"
   },
   "outputs": [
    {
     "name": "stdout",
     "output_type": "stream",
     "text": [
      "this is masking image\n",
      "no this is not masking image\n",
      "no this is not masking image\n",
      "this is masking image\n",
      "this is masking image\n",
      "this is masking image\n",
      "no this is not masking image\n",
      "no this is not masking image\n",
      "no this is not masking image\n",
      "no this is not masking image\n",
      "this is masking image\n",
      "this is masking image\n",
      "this is masking image\n",
      "this is masking image\n",
      "this is masking image\n",
      "this is masking image\n",
      "no this is not masking image\n",
      "this is masking image\n",
      "this is masking image\n",
      "no this is not masking image\n",
      "this is masking image\n",
      "no this is not masking image\n",
      "no this is not masking image\n",
      "no this is not masking image\n",
      "this is masking image\n",
      "this is masking image\n",
      "no this is not masking image\n",
      "this is masking image\n",
      "no this is not masking image\n",
      "this is masking image\n",
      "no this is not masking image\n",
      "no this is not masking image\n",
      "this is masking image\n",
      "no this is not masking image\n",
      "this is masking image\n",
      "no this is not masking image\n",
      "this is masking image\n",
      "no this is not masking image\n",
      "no this is not masking image\n",
      "this is masking image\n",
      "no this is not masking image\n",
      "no this is not masking image\n",
      "no this is not masking image\n",
      "this is masking image\n",
      "no this is not masking image\n",
      "this is masking image\n",
      "this is masking image\n",
      "no this is not masking image\n",
      "no this is not masking image\n",
      "no this is not masking image\n",
      "no this is not masking image\n",
      "this is masking image\n",
      "this is masking image\n",
      "no this is not masking image\n",
      "no this is not masking image\n",
      "no this is not masking image\n",
      "no this is not masking image\n",
      "this is masking image\n",
      "this is masking image\n",
      "this is masking image\n",
      "this is masking image\n",
      "this is masking image\n",
      "this is masking image\n",
      "no this is not masking image\n",
      "no this is not masking image\n",
      "this is masking image\n",
      "no this is not masking image\n",
      "this is masking image\n",
      "this is masking image\n",
      "no this is not masking image\n",
      "this is masking image\n",
      "no this is not masking image\n",
      "no this is not masking image\n",
      "no this is not masking image\n",
      "no this is not masking image\n",
      "this is masking image\n",
      "this is masking image\n",
      "no this is not masking image\n",
      "this is masking image\n",
      "no this is not masking image\n",
      "no this is not masking image\n",
      "no this is not masking image\n",
      "no this is not masking image\n",
      "no this is not masking image\n",
      "no this is not masking image\n",
      "no this is not masking image\n",
      "no this is not masking image\n",
      "no this is not masking image\n",
      "this is masking image\n",
      "this is masking image\n",
      "no this is not masking image\n",
      "this is masking image\n",
      "no this is not masking image\n",
      "this is masking image\n",
      "this is masking image\n",
      "this is masking image\n",
      "this is masking image\n",
      "this is masking image\n",
      "this is masking image\n",
      "no this is not masking image\n",
      "this is masking image\n",
      "this is masking image\n",
      "this is masking image\n",
      "no this is not masking image\n",
      "no this is not masking image\n",
      "this is masking image\n",
      "no this is not masking image\n",
      "no this is not masking image\n",
      "this is masking image\n",
      "this is masking image\n",
      "no this is not masking image\n",
      "this is masking image\n",
      "no this is not masking image\n",
      "this is masking image\n",
      "no this is not masking image\n",
      "no this is not masking image\n",
      "this is masking image\n",
      "this is masking image\n",
      "no this is not masking image\n",
      "no this is not masking image\n",
      "no this is not masking image\n",
      "this is masking image\n",
      "this is masking image\n",
      "no this is not masking image\n",
      "this is masking image\n",
      "no this is not masking image\n",
      "no this is not masking image\n",
      "this is masking image\n",
      "this is masking image\n",
      "no this is not masking image\n",
      "no this is not masking image\n",
      "this is masking image\n",
      "no this is not masking image\n",
      "no this is not masking image\n",
      "no this is not masking image\n",
      "no this is not masking image\n",
      "no this is not masking image\n",
      "no this is not masking image\n",
      "no this is not masking image\n",
      "this is masking image\n",
      "no this is not masking image\n",
      "this is masking image\n",
      "no this is not masking image\n",
      "this is masking image\n",
      "no this is not masking image\n",
      "this is masking image\n",
      "this is masking image\n",
      "this is masking image\n",
      "this is masking image\n",
      "this is masking image\n",
      "this is masking image\n",
      "this is masking image\n",
      "this is masking image\n",
      "no this is not masking image\n",
      "no this is not masking image\n",
      "this is masking image\n",
      "no this is not masking image\n",
      "this is masking image\n",
      "this is masking image\n",
      "no this is not masking image\n",
      "this is masking image\n",
      "this is masking image\n",
      "this is masking image\n",
      "no this is not masking image\n",
      "no this is not masking image\n",
      "no this is not masking image\n",
      "this is masking image\n",
      "this is masking image\n",
      "no this is not masking image\n",
      "this is masking image\n",
      "this is masking image\n",
      "this is masking image\n",
      "this is masking image\n",
      "this is masking image\n",
      "no this is not masking image\n",
      "this is masking image\n",
      "no this is not masking image\n",
      "this is masking image\n",
      "no this is not masking image\n",
      "this is masking image\n",
      "no this is not masking image\n",
      "no this is not masking image\n",
      "no this is not masking image\n",
      "this is masking image\n",
      "no this is not masking image\n",
      "no this is not masking image\n",
      "this is masking image\n",
      "no this is not masking image\n",
      "this is masking image\n",
      "no this is not masking image\n",
      "no this is not masking image\n",
      "this is masking image\n",
      "no this is not masking image\n",
      "no this is not masking image\n",
      "this is masking image\n",
      "this is masking image\n",
      "no this is not masking image\n",
      "this is masking image\n",
      "no this is not masking image\n",
      "this is masking image\n",
      "this is masking image\n",
      "no this is not masking image\n",
      "this is masking image\n",
      "this is masking image\n",
      "no this is not masking image\n",
      "this is masking image\n",
      "this is masking image\n",
      "no this is not masking image\n",
      "this is masking image\n",
      "no this is not masking image\n",
      "no this is not masking image\n",
      "this is masking image\n",
      "no this is not masking image\n",
      "no this is not masking image\n",
      "no this is not masking image\n",
      "this is masking image\n",
      "this is masking image\n",
      "this is masking image\n",
      "no this is not masking image\n",
      "no this is not masking image\n",
      "no this is not masking image\n",
      "no this is not masking image\n",
      "this is masking image\n",
      "this is masking image\n",
      "no this is not masking image\n",
      "this is masking image\n",
      "no this is not masking image\n",
      "this is masking image\n",
      "no this is not masking image\n",
      "this is masking image\n",
      "no this is not masking image\n",
      "no this is not masking image\n",
      "this is masking image\n",
      "no this is not masking image\n",
      "no this is not masking image\n",
      "this is masking image\n",
      "this is masking image\n",
      "no this is not masking image\n",
      "this is masking image\n",
      "no this is not masking image\n",
      "this is masking image\n",
      "no this is not masking image\n",
      "this is masking image\n",
      "no this is not masking image\n",
      "no this is not masking image\n",
      "no this is not masking image\n",
      "this is masking image\n",
      "this is masking image\n",
      "no this is not masking image\n",
      "no this is not masking image\n",
      "no this is not masking image\n",
      "this is masking image\n",
      "this is masking image\n",
      "no this is not masking image\n",
      "no this is not masking image\n",
      "this is masking image\n",
      "this is masking image\n",
      "no this is not masking image\n",
      "this is masking image\n",
      "no this is not masking image\n",
      "this is masking image\n",
      "this is masking image\n",
      "no this is not masking image\n",
      "no this is not masking image\n",
      "this is masking image\n",
      "no this is not masking image\n",
      "no this is not masking image\n",
      "no this is not masking image\n",
      "no this is not masking image\n",
      "no this is not masking image\n",
      "this is masking image\n",
      "this is masking image\n",
      "this is masking image\n",
      "no this is not masking image\n",
      "this is masking image\n",
      "this is masking image\n",
      "no this is not masking image\n",
      "no this is not masking image\n",
      "this is masking image\n",
      "this is masking image\n",
      "this is masking image\n",
      "no this is not masking image\n",
      "this is masking image\n",
      "this is masking image\n",
      "this is masking image\n",
      "this is masking image\n",
      "no this is not masking image\n",
      "this is masking image\n",
      "this is masking image\n",
      "no this is not masking image\n",
      "this is masking image\n",
      "this is masking image\n",
      "no this is not masking image\n",
      "this is masking image\n",
      "no this is not masking image\n",
      "no this is not masking image\n",
      "no this is not masking image\n",
      "no this is not masking image\n",
      "this is masking image\n",
      "no this is not masking image\n",
      "no this is not masking image\n",
      "no this is not masking image\n",
      "no this is not masking image\n",
      "this is masking image\n",
      "no this is not masking image\n",
      "this is masking image\n",
      "no this is not masking image\n",
      "this is masking image\n",
      "no this is not masking image\n",
      "no this is not masking image\n",
      "no this is not masking image\n",
      "this is masking image\n",
      "no this is not masking image\n",
      "no this is not masking image\n",
      "this is masking image\n",
      "this is masking image\n",
      "no this is not masking image\n",
      "this is masking image\n",
      "no this is not masking image\n",
      "no this is not masking image\n",
      "no this is not masking image\n",
      "no this is not masking image\n",
      "no this is not masking image\n",
      "this is masking image\n",
      "this is masking image\n",
      "this is masking image\n",
      "this is masking image\n",
      "no this is not masking image\n",
      "this is masking image\n",
      "this is masking image\n",
      "this is masking image\n",
      "this is masking image\n",
      "no this is not masking image\n",
      "no this is not masking image\n",
      "this is masking image\n",
      "this is masking image\n",
      "no this is not masking image\n",
      "no this is not masking image\n",
      "this is masking image\n",
      "this is masking image\n",
      "this is masking image\n",
      "this is masking image\n",
      "this is masking image\n",
      "no this is not masking image\n",
      "no this is not masking image\n",
      "no this is not masking image\n",
      "no this is not masking image\n",
      "this is masking image\n",
      "this is masking image\n",
      "this is masking image\n",
      "this is masking image\n",
      "this is masking image\n",
      "this is masking image\n",
      "no this is not masking image\n",
      "no this is not masking image\n",
      "no this is not masking image\n",
      "this is masking image\n",
      "no this is not masking image\n",
      "no this is not masking image\n",
      "no this is not masking image\n",
      "no this is not masking image\n",
      "this is masking image\n",
      "no this is not masking image\n",
      "this is masking image\n",
      "no this is not masking image\n",
      "this is masking image\n",
      "this is masking image\n",
      "this is masking image\n",
      "this is masking image\n",
      "this is masking image\n",
      "no this is not masking image\n",
      "this is masking image\n",
      "this is masking image\n",
      "this is masking image\n",
      "this is masking image\n",
      "this is masking image\n",
      "no this is not masking image\n",
      "no this is not masking image\n",
      "no this is not masking image\n",
      "no this is not masking image\n",
      "this is masking image\n",
      "no this is not masking image\n",
      "this is masking image\n",
      "no this is not masking image\n",
      "no this is not masking image\n",
      "this is masking image\n",
      "no this is not masking image\n",
      "this is masking image\n",
      "this is masking image\n",
      "this is masking image\n",
      "no this is not masking image\n",
      "this is masking image\n",
      "no this is not masking image\n",
      "this is masking image\n",
      "this is masking image\n",
      "no this is not masking image\n",
      "no this is not masking image\n",
      "this is masking image\n",
      "this is masking image\n",
      "this is masking image\n",
      "no this is not masking image\n",
      "no this is not masking image\n",
      "no this is not masking image\n",
      "this is masking image\n",
      "this is masking image\n",
      "no this is not masking image\n",
      "no this is not masking image\n",
      "this is masking image\n",
      "this is masking image\n",
      "no this is not masking image\n",
      "no this is not masking image\n",
      "this is masking image\n",
      "no this is not masking image\n",
      "this is masking image\n",
      "no this is not masking image\n",
      "this is masking image\n",
      "no this is not masking image\n",
      "no this is not masking image\n",
      "this is masking image\n",
      "this is masking image\n",
      "this is masking image\n",
      "this is masking image\n",
      "no this is not masking image\n",
      "this is masking image\n",
      "no this is not masking image\n",
      "no this is not masking image\n",
      "no this is not masking image\n",
      "no this is not masking image\n",
      "this is masking image\n",
      "no this is not masking image\n",
      "no this is not masking image\n",
      "this is masking image\n",
      "this is masking image\n",
      "this is masking image\n",
      "no this is not masking image\n",
      "no this is not masking image\n",
      "this is masking image\n",
      "this is masking image\n",
      "this is masking image\n",
      "no this is not masking image\n",
      "this is masking image\n",
      "this is masking image\n",
      "this is masking image\n",
      "this is masking image\n",
      "this is masking image\n",
      "this is masking image\n",
      "no this is not masking image\n",
      "no this is not masking image\n",
      "this is masking image\n",
      "this is masking image\n",
      "no this is not masking image\n",
      "no this is not masking image\n",
      "no this is not masking image\n",
      "this is masking image\n",
      "no this is not masking image\n",
      "no this is not masking image\n",
      "no this is not masking image\n",
      "no this is not masking image\n",
      "no this is not masking image\n",
      "this is masking image\n",
      "no this is not masking image\n",
      "no this is not masking image\n",
      "no this is not masking image\n",
      "this is masking image\n",
      "this is masking image\n",
      "no this is not masking image\n",
      "this is masking image\n",
      "this is masking image\n",
      "no this is not masking image\n",
      "no this is not masking image\n",
      "this is masking image\n",
      "no this is not masking image\n",
      "this is masking image\n",
      "no this is not masking image\n",
      "no this is not masking image\n",
      "this is masking image\n",
      "this is masking image\n",
      "this is masking image\n",
      "no this is not masking image\n",
      "this is masking image\n",
      "this is masking image\n",
      "this is masking image\n",
      "this is masking image\n",
      "no this is not masking image\n",
      "no this is not masking image\n",
      "this is masking image\n",
      "this is masking image\n",
      "this is masking image\n",
      "no this is not masking image\n",
      "no this is not masking image\n",
      "no this is not masking image\n",
      "no this is not masking image\n",
      "this is masking image\n",
      "no this is not masking image\n",
      "no this is not masking image\n",
      "no this is not masking image\n",
      "this is masking image\n",
      "no this is not masking image\n",
      "this is masking image\n",
      "this is masking image\n",
      "this is masking image\n",
      "this is masking image\n",
      "no this is not masking image\n",
      "no this is not masking image\n",
      "no this is not masking image\n",
      "no this is not masking image\n",
      "this is masking image\n",
      "this is masking image\n",
      "this is masking image\n",
      "no this is not masking image\n",
      "no this is not masking image\n",
      "no this is not masking image\n",
      "this is masking image\n",
      "no this is not masking image\n",
      "this is masking image\n",
      "no this is not masking image\n",
      "this is masking image\n",
      "this is masking image\n",
      "this is masking image\n",
      "no this is not masking image\n",
      "no this is not masking image\n",
      "no this is not masking image\n",
      "this is masking image\n",
      "no this is not masking image\n",
      "this is masking image\n",
      "this is masking image\n",
      "this is masking image\n",
      "no this is not masking image\n",
      "this is masking image\n",
      "this is masking image\n",
      "no this is not masking image\n",
      "no this is not masking image\n",
      "this is masking image\n",
      "this is masking image\n",
      "this is masking image\n",
      "this is masking image\n",
      "this is masking image\n",
      "this is masking image\n",
      "no this is not masking image\n",
      "no this is not masking image\n",
      "this is masking image\n",
      "no this is not masking image\n",
      "this is masking image\n",
      "no this is not masking image\n",
      "this is masking image\n",
      "this is masking image\n",
      "this is masking image\n",
      "this is masking image\n",
      "no this is not masking image\n",
      "no this is not masking image\n",
      "no this is not masking image\n",
      "no this is not masking image\n",
      "this is masking image\n",
      "this is masking image\n",
      "no this is not masking image\n",
      "no this is not masking image\n",
      "this is masking image\n",
      "this is masking image\n",
      "this is masking image\n",
      "no this is not masking image\n",
      "this is masking image\n",
      "this is masking image\n",
      "no this is not masking image\n",
      "no this is not masking image\n",
      "this is masking image\n",
      "this is masking image\n",
      "no this is not masking image\n",
      "no this is not masking image\n",
      "no this is not masking image\n",
      "no this is not masking image\n",
      "this is masking image\n",
      "this is masking image\n",
      "this is masking image\n",
      "no this is not masking image\n",
      "no this is not masking image\n",
      "no this is not masking image\n",
      "no this is not masking image\n",
      "no this is not masking image\n",
      "this is masking image\n",
      "this is masking image\n",
      "this is masking image\n",
      "no this is not masking image\n",
      "no this is not masking image\n",
      "no this is not masking image\n",
      "no this is not masking image\n",
      "this is masking image\n",
      "no this is not masking image\n",
      "this is masking image\n",
      "this is masking image\n",
      "this is masking image\n",
      "no this is not masking image\n",
      "no this is not masking image\n",
      "this is masking image\n",
      "this is masking image\n",
      "no this is not masking image\n",
      "no this is not masking image\n",
      "no this is not masking image\n",
      "this is masking image\n",
      "no this is not masking image\n",
      "this is masking image\n",
      "no this is not masking image\n",
      "this is masking image\n",
      "this is masking image\n",
      "no this is not masking image\n",
      "no this is not masking image\n",
      "this is masking image\n",
      "no this is not masking image\n",
      "no this is not masking image\n",
      "no this is not masking image\n",
      "this is masking image\n",
      "this is masking image\n",
      "no this is not masking image\n",
      "this is masking image\n",
      "this is masking image\n",
      "this is masking image\n",
      "no this is not masking image\n",
      "this is masking image\n",
      "this is masking image\n",
      "no this is not masking image\n",
      "this is masking image\n",
      "this is masking image\n",
      "no this is not masking image\n",
      "this is masking image\n",
      "this is masking image\n",
      "no this is not masking image\n",
      "this is masking image\n",
      "no this is not masking image\n",
      "no this is not masking image\n",
      "no this is not masking image\n",
      "no this is not masking image\n",
      "no this is not masking image\n",
      "this is masking image\n",
      "this is masking image\n",
      "no this is not masking image\n",
      "no this is not masking image\n",
      "this is masking image\n",
      "this is masking image\n",
      "this is masking image\n",
      "no this is not masking image\n",
      "no this is not masking image\n",
      "this is masking image\n",
      "no this is not masking image\n",
      "this is masking image\n",
      "no this is not masking image\n",
      "this is masking image\n",
      "this is masking image\n",
      "no this is not masking image\n",
      "this is masking image\n",
      "this is masking image\n",
      "no this is not masking image\n",
      "no this is not masking image\n",
      "no this is not masking image\n",
      "no this is not masking image\n",
      "no this is not masking image\n",
      "no this is not masking image\n",
      "this is masking image\n",
      "this is masking image\n",
      "this is masking image\n",
      "this is masking image\n",
      "no this is not masking image\n",
      "no this is not masking image\n",
      "no this is not masking image\n",
      "this is masking image\n",
      "this is masking image\n",
      "no this is not masking image\n",
      "this is masking image\n",
      "this is masking image\n",
      "this is masking image\n",
      "no this is not masking image\n",
      "no this is not masking image\n",
      "no this is not masking image\n",
      "this is masking image\n",
      "no this is not masking image\n",
      "no this is not masking image\n",
      "no this is not masking image\n",
      "no this is not masking image\n",
      "this is masking image\n",
      "this is masking image\n",
      "no this is not masking image\n",
      "this is masking image\n",
      "this is masking image\n",
      "this is masking image\n",
      "this is masking image\n",
      "this is masking image\n",
      "this is masking image\n",
      "this is masking image\n",
      "no this is not masking image\n",
      "no this is not masking image\n",
      "this is masking image\n",
      "no this is not masking image\n",
      "this is masking image\n",
      "no this is not masking image\n",
      "no this is not masking image\n",
      "no this is not masking image\n",
      "no this is not masking image\n",
      "this is masking image\n",
      "this is masking image\n",
      "no this is not masking image\n",
      "no this is not masking image\n",
      "this is masking image\n",
      "this is masking image\n",
      "this is masking image\n",
      "no this is not masking image\n",
      "this is masking image\n",
      "this is masking image\n",
      "this is masking image\n",
      "no this is not masking image\n",
      "no this is not masking image\n",
      "no this is not masking image\n",
      "this is masking image\n",
      "this is masking image\n",
      "this is masking image\n",
      "this is masking image\n",
      "this is masking image\n",
      "this is masking image\n",
      "no this is not masking image\n",
      "no this is not masking image\n",
      "this is masking image\n",
      "no this is not masking image\n",
      "no this is not masking image\n",
      "no this is not masking image\n",
      "no this is not masking image\n",
      "this is masking image\n",
      "this is masking image\n",
      "no this is not masking image\n",
      "no this is not masking image\n",
      "this is masking image\n",
      "this is masking image\n",
      "this is masking image\n",
      "this is masking image\n",
      "no this is not masking image\n",
      "this is masking image\n",
      "no this is not masking image\n",
      "no this is not masking image\n",
      "no this is not masking image\n",
      "no this is not masking image\n",
      "this is masking image\n",
      "no this is not masking image\n",
      "this is masking image\n",
      "this is masking image\n",
      "no this is not masking image\n",
      "this is masking image\n",
      "no this is not masking image\n",
      "this is masking image\n",
      "this is masking image\n",
      "this is masking image\n",
      "this is masking image\n",
      "no this is not masking image\n",
      "this is masking image\n",
      "no this is not masking image\n",
      "this is masking image\n",
      "no this is not masking image\n",
      "this is masking image\n",
      "this is masking image\n",
      "this is masking image\n",
      "no this is not masking image\n",
      "no this is not masking image\n",
      "this is masking image\n",
      "this is masking image\n",
      "no this is not masking image\n",
      "this is masking image\n",
      "this is masking image\n",
      "this is masking image\n",
      "no this is not masking image\n",
      "this is masking image\n",
      "this is masking image\n",
      "no this is not masking image\n",
      "this is masking image\n",
      "this is masking image\n",
      "no this is not masking image\n",
      "this is masking image\n",
      "this is masking image\n",
      "this is masking image\n",
      "this is masking image\n",
      "no this is not masking image\n",
      "this is masking image\n",
      "no this is not masking image\n",
      "no this is not masking image\n",
      "this is masking image\n",
      "this is masking image\n",
      "no this is not masking image\n",
      "this is masking image\n",
      "no this is not masking image\n",
      "this is masking image\n",
      "no this is not masking image\n",
      "no this is not masking image\n",
      "no this is not masking image\n",
      "this is masking image\n",
      "no this is not masking image\n",
      "no this is not masking image\n",
      "this is masking image\n",
      "no this is not masking image\n",
      "no this is not masking image\n",
      "this is masking image\n",
      "no this is not masking image\n",
      "this is masking image\n",
      "no this is not masking image\n",
      "this is masking image\n",
      "this is masking image\n",
      "this is masking image\n",
      "no this is not masking image\n",
      "this is masking image\n",
      "no this is not masking image\n",
      "no this is not masking image\n",
      "no this is not masking image\n",
      "this is masking image\n",
      "no this is not masking image\n",
      "no this is not masking image\n",
      "no this is not masking image\n",
      "this is masking image\n",
      "no this is not masking image\n",
      "no this is not masking image\n",
      "no this is not masking image\n",
      "this is masking image\n",
      "this is masking image\n",
      "this is masking image\n",
      "this is masking image\n",
      "no this is not masking image\n",
      "this is masking image\n",
      "this is masking image\n",
      "no this is not masking image\n",
      "no this is not masking image\n",
      "no this is not masking image\n",
      "no this is not masking image\n",
      "this is masking image\n",
      "this is masking image\n",
      "this is masking image\n",
      "no this is not masking image\n",
      "no this is not masking image\n",
      "this is masking image\n",
      "this is masking image\n",
      "this is masking image\n",
      "no this is not masking image\n",
      "no this is not masking image\n",
      "no this is not masking image\n",
      "this is masking image\n",
      "no this is not masking image\n",
      "this is masking image\n",
      "no this is not masking image\n",
      "this is masking image\n",
      "no this is not masking image\n",
      "this is masking image\n",
      "this is masking image\n",
      "this is masking image\n",
      "this is masking image\n",
      "no this is not masking image\n",
      "this is masking image\n",
      "no this is not masking image\n",
      "no this is not masking image\n",
      "this is masking image\n",
      "no this is not masking image\n",
      "no this is not masking image\n",
      "this is masking image\n",
      "this is masking image\n",
      "no this is not masking image\n",
      "no this is not masking image\n",
      "this is masking image\n",
      "no this is not masking image\n",
      "no this is not masking image\n",
      "no this is not masking image\n",
      "no this is not masking image\n",
      "no this is not masking image\n",
      "this is masking image\n",
      "this is masking image\n",
      "this is masking image\n",
      "no this is not masking image\n",
      "no this is not masking image\n",
      "no this is not masking image\n",
      "no this is not masking image\n",
      "this is masking image\n",
      "no this is not masking image\n",
      "this is masking image\n",
      "no this is not masking image\n",
      "no this is not masking image\n",
      "this is masking image\n",
      "no this is not masking image\n",
      "no this is not masking image\n",
      "this is masking image\n",
      "this is masking image\n",
      "no this is not masking image\n",
      "no this is not masking image\n",
      "this is masking image\n",
      "no this is not masking image\n",
      "this is masking image\n",
      "this is masking image\n",
      "this is masking image\n",
      "no this is not masking image\n",
      "no this is not masking image\n",
      "no this is not masking image\n",
      "this is masking image\n",
      "no this is not masking image\n",
      "this is masking image\n",
      "this is masking image\n",
      "no this is not masking image\n",
      "no this is not masking image\n",
      "no this is not masking image\n",
      "no this is not masking image\n",
      "no this is not masking image\n",
      "this is masking image\n",
      "this is masking image\n",
      "no this is not masking image\n",
      "this is masking image\n",
      "this is masking image\n",
      "no this is not masking image\n",
      "no this is not masking image\n",
      "this is masking image\n",
      "no this is not masking image\n",
      "this is masking image\n",
      "this is masking image\n",
      "this is masking image\n",
      "this is masking image\n",
      "no this is not masking image\n",
      "no this is not masking image\n",
      "this is masking image\n",
      "this is masking image\n",
      "no this is not masking image\n",
      "this is masking image\n",
      "no this is not masking image\n",
      "this is masking image\n",
      "this is masking image\n",
      "this is masking image\n",
      "no this is not masking image\n",
      "this is masking image\n",
      "no this is not masking image\n",
      "no this is not masking image\n",
      "no this is not masking image\n",
      "this is masking image\n",
      "this is masking image\n",
      "no this is not masking image\n",
      "this is masking image\n",
      "no this is not masking image\n",
      "no this is not masking image\n",
      "this is masking image\n",
      "no this is not masking image\n",
      "this is masking image\n",
      "this is masking image\n",
      "no this is not masking image\n",
      "no this is not masking image\n",
      "no this is not masking image\n",
      "this is masking image\n",
      "no this is not masking image\n",
      "no this is not masking image\n",
      "no this is not masking image\n",
      "this is masking image\n",
      "this is masking image\n",
      "this is masking image\n",
      "this is masking image\n",
      "this is masking image\n",
      "no this is not masking image\n",
      "this is masking image\n",
      "no this is not masking image\n",
      "this is masking image\n",
      "this is masking image\n",
      "this is masking image\n",
      "no this is not masking image\n",
      "this is masking image\n",
      "no this is not masking image\n",
      "no this is not masking image\n",
      "this is masking image\n",
      "no this is not masking image\n",
      "no this is not masking image\n",
      "this is masking image\n",
      "this is masking image\n",
      "no this is not masking image\n",
      "this is masking image\n",
      "this is masking image\n",
      "no this is not masking image\n",
      "this is masking image\n",
      "no this is not masking image\n",
      "no this is not masking image\n",
      "no this is not masking image\n",
      "no this is not masking image\n",
      "this is masking image\n",
      "this is masking image\n",
      "this is masking image\n",
      "this is masking image\n",
      "this is masking image\n",
      "this is masking image\n",
      "no this is not masking image\n",
      "no this is not masking image\n",
      "no this is not masking image\n",
      "no this is not masking image\n",
      "no this is not masking image\n",
      "no this is not masking image\n",
      "no this is not masking image\n",
      "this is masking image\n",
      "this is masking image\n",
      "no this is not masking image\n",
      "this is masking image\n",
      "this is masking image\n",
      "this is masking image\n",
      "this is masking image\n",
      "no this is not masking image\n",
      "this is masking image\n",
      "no this is not masking image\n",
      "this is masking image\n",
      "this is masking image\n",
      "no this is not masking image\n",
      "this is masking image\n",
      "this is masking image\n",
      "this is masking image\n",
      "no this is not masking image\n",
      "no this is not masking image\n",
      "no this is not masking image\n",
      "no this is not masking image\n",
      "this is masking image\n",
      "no this is not masking image\n",
      "this is masking image\n",
      "no this is not masking image\n",
      "no this is not masking image\n",
      "this is masking image\n",
      "no this is not masking image\n",
      "this is masking image\n",
      "no this is not masking image\n",
      "this is masking image\n",
      "no this is not masking image\n",
      "this is masking image\n",
      "no this is not masking image\n",
      "this is masking image\n",
      "no this is not masking image\n",
      "no this is not masking image\n",
      "no this is not masking image\n",
      "this is masking image\n",
      "no this is not masking image\n",
      "this is masking image\n",
      "this is masking image\n",
      "no this is not masking image\n",
      "this is masking image\n",
      "no this is not masking image\n",
      "no this is not masking image\n",
      "no this is not masking image\n",
      "this is masking image\n",
      "this is masking image\n",
      "this is masking image\n",
      "no this is not masking image\n",
      "this is masking image\n",
      "this is masking image\n",
      "this is masking image\n",
      "this is masking image\n",
      "this is masking image\n",
      "this is masking image\n",
      "this is masking image\n",
      "no this is not masking image\n",
      "this is masking image\n",
      "no this is not masking image\n",
      "this is masking image\n",
      "this is masking image\n",
      "this is masking image\n",
      "this is masking image\n",
      "no this is not masking image\n",
      "this is masking image\n",
      "this is masking image\n",
      "this is masking image\n",
      "no this is not masking image\n",
      "this is masking image\n",
      "no this is not masking image\n",
      "this is masking image\n",
      "no this is not masking image\n",
      "no this is not masking image\n",
      "no this is not masking image\n",
      "no this is not masking image\n",
      "this is masking image\n",
      "no this is not masking image\n",
      "this is masking image\n",
      "no this is not masking image\n",
      "no this is not masking image\n",
      "this is masking image\n",
      "no this is not masking image\n",
      "no this is not masking image\n",
      "no this is not masking image\n",
      "this is masking image\n",
      "no this is not masking image\n",
      "no this is not masking image\n",
      "no this is not masking image\n",
      "this is masking image\n",
      "no this is not masking image\n",
      "no this is not masking image\n",
      "no this is not masking image\n",
      "no this is not masking image\n",
      "this is masking image\n",
      "this is masking image\n",
      "no this is not masking image\n",
      "this is masking image\n",
      "no this is not masking image\n",
      "no this is not masking image\n",
      "this is masking image\n",
      "this is masking image\n",
      "this is masking image\n",
      "no this is not masking image\n",
      "no this is not masking image\n",
      "no this is not masking image\n",
      "this is masking image\n",
      "this is masking image\n",
      "this is masking image\n",
      "this is masking image\n",
      "this is masking image\n",
      "no this is not masking image\n",
      "no this is not masking image\n",
      "this is masking image\n",
      "this is masking image\n",
      "this is masking image\n",
      "no this is not masking image\n",
      "this is masking image\n",
      "no this is not masking image\n",
      "this is masking image\n",
      "no this is not masking image\n",
      "no this is not masking image\n",
      "no this is not masking image\n",
      "no this is not masking image\n",
      "this is masking image\n",
      "this is masking image\n",
      "no this is not masking image\n",
      "no this is not masking image\n",
      "this is masking image\n",
      "this is masking image\n",
      "this is masking image\n",
      "this is masking image\n",
      "no this is not masking image\n",
      "this is masking image\n",
      "no this is not masking image\n",
      "this is masking image\n",
      "no this is not masking image\n",
      "this is masking image\n",
      "no this is not masking image\n",
      "this is masking image\n",
      "this is masking image\n",
      "this is masking image\n",
      "this is masking image\n",
      "this is masking image\n",
      "no this is not masking image\n",
      "this is masking image\n",
      "this is masking image\n",
      "this is masking image\n",
      "this is masking image\n",
      "this is masking image\n",
      "no this is not masking image\n",
      "no this is not masking image\n",
      "no this is not masking image\n",
      "this is masking image\n",
      "no this is not masking image\n",
      "this is masking image\n",
      "no this is not masking image\n",
      "no this is not masking image\n",
      "no this is not masking image\n",
      "this is masking image\n",
      "no this is not masking image\n",
      "no this is not masking image\n",
      "this is masking image\n",
      "this is masking image\n",
      "no this is not masking image\n",
      "no this is not masking image\n",
      "no this is not masking image\n",
      "no this is not masking image\n",
      "no this is not masking image\n",
      "no this is not masking image\n",
      "no this is not masking image\n",
      "no this is not masking image\n",
      "no this is not masking image\n",
      "this is masking image\n",
      "no this is not masking image\n",
      "this is masking image\n",
      "no this is not masking image\n",
      "this is masking image\n",
      "this is masking image\n",
      "this is masking image\n",
      "this is masking image\n",
      "no this is not masking image\n",
      "this is masking image\n",
      "this is masking image\n",
      "no this is not masking image\n",
      "this is masking image\n",
      "this is masking image\n",
      "this is masking image\n",
      "this is masking image\n",
      "no this is not masking image\n",
      "this is masking image\n",
      "this is masking image\n",
      "no this is not masking image\n",
      "no this is not masking image\n",
      "this is masking image\n",
      "no this is not masking image\n",
      "no this is not masking image\n",
      "no this is not masking image\n",
      "no this is not masking image\n",
      "no this is not masking image\n",
      "this is masking image\n",
      "this is masking image\n",
      "no this is not masking image\n",
      "no this is not masking image\n",
      "no this is not masking image\n",
      "this is masking image\n",
      "no this is not masking image\n",
      "this is masking image\n",
      "no this is not masking image\n",
      "no this is not masking image\n",
      "this is masking image\n",
      "no this is not masking image\n",
      "this is masking image\n",
      "this is masking image\n",
      "this is masking image\n",
      "no this is not masking image\n",
      "no this is not masking image\n",
      "no this is not masking image\n",
      "this is masking image\n",
      "this is masking image\n",
      "no this is not masking image\n",
      "this is masking image\n",
      "no this is not masking image\n",
      "no this is not masking image\n",
      "no this is not masking image\n",
      "this is masking image\n",
      "this is masking image\n",
      "no this is not masking image\n",
      "no this is not masking image\n",
      "no this is not masking image\n",
      "this is masking image\n",
      "this is masking image\n",
      "this is masking image\n",
      "this is masking image\n",
      "this is masking image\n",
      "this is masking image\n",
      "no this is not masking image\n",
      "no this is not masking image\n",
      "no this is not masking image\n",
      "no this is not masking image\n",
      "no this is not masking image\n",
      "this is masking image\n",
      "this is masking image\n",
      "this is masking image\n",
      "this is masking image\n",
      "no this is not masking image\n",
      "this is masking image\n",
      "this is masking image\n",
      "no this is not masking image\n",
      "no this is not masking image\n",
      "no this is not masking image\n",
      "this is masking image\n",
      "no this is not masking image\n",
      "this is masking image\n",
      "this is masking image\n",
      "this is masking image\n",
      "this is masking image\n",
      "no this is not masking image\n",
      "this is masking image\n",
      "no this is not masking image\n",
      "this is masking image\n",
      "this is masking image\n",
      "this is masking image\n",
      "no this is not masking image\n",
      "this is masking image\n",
      "no this is not masking image\n",
      "this is masking image\n",
      "this is masking image\n",
      "no this is not masking image\n",
      "no this is not masking image\n",
      "this is masking image\n",
      "no this is not masking image\n",
      "this is masking image\n",
      "this is masking image\n",
      "this is masking image\n",
      "no this is not masking image\n",
      "no this is not masking image\n",
      "this is masking image\n",
      "this is masking image\n",
      "no this is not masking image\n",
      "this is masking image\n",
      "no this is not masking image\n",
      "this is masking image\n",
      "no this is not masking image\n",
      "no this is not masking image\n",
      "no this is not masking image\n",
      "this is masking image\n",
      "this is masking image\n",
      "this is masking image\n",
      "this is masking image\n",
      "no this is not masking image\n",
      "no this is not masking image\n",
      "this is masking image\n",
      "no this is not masking image\n",
      "no this is not masking image\n",
      "this is masking image\n",
      "no this is not masking image\n",
      "no this is not masking image\n",
      "no this is not masking image\n",
      "no this is not masking image\n",
      "this is masking image\n",
      "this is masking image\n",
      "no this is not masking image\n",
      "this is masking image\n",
      "this is masking image\n",
      "no this is not masking image\n",
      "no this is not masking image\n",
      "this is masking image\n",
      "no this is not masking image\n",
      "no this is not masking image\n",
      "this is masking image\n",
      "this is masking image\n",
      "no this is not masking image\n",
      "this is masking image\n",
      "this is masking image\n",
      "no this is not masking image\n",
      "no this is not masking image\n",
      "this is masking image\n",
      "this is masking image\n",
      "this is masking image\n",
      "this is masking image\n",
      "no this is not masking image\n",
      "no this is not masking image\n",
      "this is masking image\n",
      "this is masking image\n",
      "this is masking image\n",
      "no this is not masking image\n",
      "no this is not masking image\n",
      "this is masking image\n",
      "this is masking image\n",
      "this is masking image\n",
      "no this is not masking image\n",
      "no this is not masking image\n",
      "no this is not masking image\n",
      "no this is not masking image\n",
      "no this is not masking image\n",
      "no this is not masking image\n",
      "no this is not masking image\n",
      "no this is not masking image\n",
      "no this is not masking image\n",
      "this is masking image\n",
      "this is masking image\n",
      "no this is not masking image\n",
      "no this is not masking image\n",
      "this is masking image\n",
      "this is masking image\n",
      "no this is not masking image\n",
      "this is masking image\n",
      "this is masking image\n",
      "this is masking image\n",
      "this is masking image\n",
      "this is masking image\n",
      "this is masking image\n",
      "this is masking image\n",
      "no this is not masking image\n",
      "this is masking image\n",
      "no this is not masking image\n",
      "this is masking image\n",
      "this is masking image\n",
      "this is masking image\n",
      "this is masking image\n",
      "this is masking image\n",
      "no this is not masking image\n",
      "this is masking image\n",
      "this is masking image\n",
      "no this is not masking image\n",
      "no this is not masking image\n",
      "this is masking image\n",
      "no this is not masking image\n",
      "no this is not masking image\n",
      "this is masking image\n",
      "this is masking image\n",
      "no this is not masking image\n",
      "this is masking image\n",
      "no this is not masking image\n",
      "this is masking image\n",
      "no this is not masking image\n",
      "no this is not masking image\n",
      "no this is not masking image\n",
      "this is masking image\n",
      "this is masking image\n",
      "no this is not masking image\n",
      "this is masking image\n",
      "no this is not masking image\n",
      "no this is not masking image\n",
      "no this is not masking image\n",
      "no this is not masking image\n",
      "no this is not masking image\n",
      "this is masking image\n",
      "this is masking image\n",
      "no this is not masking image\n",
      "this is masking image\n",
      "this is masking image\n",
      "no this is not masking image\n",
      "no this is not masking image\n",
      "this is masking image\n",
      "no this is not masking image\n",
      "this is masking image\n",
      "no this is not masking image\n",
      "this is masking image\n",
      "no this is not masking image\n",
      "no this is not masking image\n",
      "this is masking image\n",
      "no this is not masking image\n",
      "no this is not masking image\n",
      "no this is not masking image\n",
      "this is masking image\n",
      "this is masking image\n",
      "no this is not masking image\n",
      "this is masking image\n",
      "no this is not masking image\n",
      "no this is not masking image\n",
      "this is masking image\n",
      "no this is not masking image\n",
      "this is masking image\n",
      "no this is not masking image\n",
      "no this is not masking image\n",
      "this is masking image\n",
      "this is masking image\n",
      "no this is not masking image\n",
      "this is masking image\n",
      "this is masking image\n",
      "no this is not masking image\n",
      "no this is not masking image\n",
      "no this is not masking image\n",
      "no this is not masking image\n",
      "this is masking image\n",
      "this is masking image\n",
      "no this is not masking image\n",
      "no this is not masking image\n",
      "no this is not masking image\n",
      "this is masking image\n",
      "this is masking image\n",
      "this is masking image\n",
      "this is masking image\n",
      "no this is not masking image\n",
      "no this is not masking image\n",
      "this is masking image\n",
      "this is masking image\n",
      "no this is not masking image\n",
      "this is masking image\n",
      "this is masking image\n",
      "no this is not masking image\n",
      "no this is not masking image\n",
      "no this is not masking image\n",
      "no this is not masking image\n",
      "this is masking image\n",
      "no this is not masking image\n",
      "this is masking image\n",
      "this is masking image\n",
      "no this is not masking image\n",
      "this is masking image\n",
      "this is masking image\n",
      "no this is not masking image\n",
      "this is masking image\n",
      "no this is not masking image\n",
      "this is masking image\n",
      "this is masking image\n",
      "this is masking image\n",
      "no this is not masking image\n",
      "this is masking image\n",
      "this is masking image\n",
      "this is masking image\n",
      "this is masking image\n",
      "this is masking image\n",
      "no this is not masking image\n",
      "no this is not masking image\n",
      "no this is not masking image\n",
      "this is masking image\n",
      "no this is not masking image\n",
      "this is masking image\n",
      "this is masking image\n",
      "no this is not masking image\n",
      "no this is not masking image\n",
      "this is masking image\n",
      "no this is not masking image\n",
      "no this is not masking image\n",
      "no this is not masking image\n",
      "this is masking image\n",
      "this is masking image\n",
      "no this is not masking image\n",
      "this is masking image\n",
      "this is masking image\n",
      "no this is not masking image\n",
      "no this is not masking image\n",
      "this is masking image\n",
      "no this is not masking image\n",
      "no this is not masking image\n",
      "this is masking image\n",
      "this is masking image\n",
      "this is masking image\n",
      "this is masking image\n",
      "no this is not masking image\n",
      "no this is not masking image\n",
      "no this is not masking image\n",
      "no this is not masking image\n",
      "no this is not masking image\n",
      "no this is not masking image\n",
      "no this is not masking image\n",
      "this is masking image\n",
      "this is masking image\n",
      "this is masking image\n",
      "this is masking image\n",
      "no this is not masking image\n",
      "no this is not masking image\n",
      "this is masking image\n",
      "this is masking image\n",
      "this is masking image\n",
      "no this is not masking image\n",
      "no this is not masking image\n",
      "no this is not masking image\n",
      "no this is not masking image\n",
      "this is masking image\n",
      "no this is not masking image\n",
      "this is masking image\n",
      "no this is not masking image\n",
      "this is masking image\n",
      "this is masking image\n",
      "no this is not masking image\n",
      "this is masking image\n",
      "this is masking image\n",
      "no this is not masking image\n",
      "this is masking image\n",
      "no this is not masking image\n",
      "no this is not masking image\n",
      "no this is not masking image\n",
      "this is masking image\n",
      "no this is not masking image\n",
      "no this is not masking image\n",
      "this is masking image\n",
      "no this is not masking image\n",
      "no this is not masking image\n",
      "this is masking image\n",
      "this is masking image\n",
      "no this is not masking image\n",
      "this is masking image\n",
      "no this is not masking image\n",
      "this is masking image\n",
      "no this is not masking image\n",
      "this is masking image\n",
      "this is masking image\n",
      "no this is not masking image\n",
      "this is masking image\n",
      "no this is not masking image\n",
      "no this is not masking image\n",
      "this is masking image\n",
      "this is masking image\n",
      "no this is not masking image\n",
      "no this is not masking image\n",
      "no this is not masking image\n",
      "this is masking image\n",
      "this is masking image\n",
      "this is masking image\n",
      "no this is not masking image\n",
      "no this is not masking image\n",
      "no this is not masking image\n",
      "this is masking image\n",
      "no this is not masking image\n",
      "no this is not masking image\n",
      "no this is not masking image\n",
      "this is masking image\n",
      "no this is not masking image\n",
      "no this is not masking image\n",
      "no this is not masking image\n",
      "this is masking image\n",
      "this is masking image\n",
      "this is masking image\n",
      "no this is not masking image\n",
      "this is masking image\n",
      "this is masking image\n",
      "no this is not masking image\n",
      "this is masking image\n",
      "this is masking image\n",
      "this is masking image\n",
      "no this is not masking image\n",
      "this is masking image\n",
      "no this is not masking image\n",
      "this is masking image\n",
      "this is masking image\n",
      "this is masking image\n",
      "no this is not masking image\n",
      "this is masking image\n",
      "this is masking image\n",
      "no this is not masking image\n",
      "no this is not masking image\n",
      "no this is not masking image\n",
      "no this is not masking image\n",
      "this is masking image\n",
      "this is masking image\n",
      "this is masking image\n",
      "this is masking image\n",
      "no this is not masking image\n",
      "this is masking image\n"
     ]
    }
   ],
   "source": [
    "import os\n",
    "import cv2\n",
    "image_size=224\n",
    "data1=[]#empty list\n",
    "for category in classses:\n",
    "    path = os.path.join(directory, category)\n",
    "    # print(path)\n",
    "    label = classses.index(category)\n",
    "    for img in os.listdir(path):\n",
    "        img_path = os.path.join(path, img)\n",
    "        # print(img_path)\n",
    "        if \"_mask\" in img_path:\n",
    "            print(\"this is masking image\")\n",
    "        else:\n",
    "            print(\"no this is not masking image\")\n",
    "            arr = cv2.imread(img_path)#Reading Images\n",
    "            arr = cv2.cvtColor(arr, cv2.COLOR_BGR2RGB)\n",
    "            new_arr = cv2.resize(arr, (image_size, image_size))#Resizing into same shape\n",
    "            data1.append([new_arr, label])"
   ]
  },
  {
   "cell_type": "code",
   "execution_count": null,
   "metadata": {
    "id": "qDgGspJgZr6Q"
   },
   "outputs": [],
   "source": [
    "import random\n",
    "random.shuffle(data1)"
   ]
  },
  {
   "cell_type": "code",
   "execution_count": null,
   "metadata": {
    "colab": {
     "base_uri": "https://localhost:8080/"
    },
    "id": "0mMXcqN0a5CT",
    "outputId": "70fb31af-6ca1-4d50-d64f-7df394051bd2"
   },
   "outputs": [
    {
     "data": {
      "text/plain": [
       "['malignant', 'benign', 'normal']"
      ]
     },
     "execution_count": 51,
     "metadata": {},
     "output_type": "execute_result"
    }
   ],
   "source": [
    "classses"
   ]
  },
  {
   "cell_type": "code",
   "execution_count": null,
   "metadata": {
    "id": "VGTT8VEha6rI"
   },
   "outputs": [],
   "source": [
    "x=[]#ndependent\n",
    "y=[]#dependent\n",
    "for features,labels in data1:\n",
    "    x.append(features)\n",
    "    y.append(labels)"
   ]
  },
  {
   "cell_type": "code",
   "execution_count": null,
   "metadata": {
    "id": "izB8qs9Ka8v2"
   },
   "outputs": [],
   "source": [
    "x=np.array(x)\n",
    "y=np.array(y)\n",
    "#x=x/255 #feature scaling"
   ]
  },
  {
   "cell_type": "code",
   "execution_count": null,
   "metadata": {
    "id": "zEIh7l9Fa-Q_"
   },
   "outputs": [],
   "source": [
    "from sklearn.model_selection import train_test_split\n",
    "X_train,X_test,y_train,y_test=train_test_split(x,y,test_size=0.2)"
   ]
  },
  {
   "cell_type": "code",
   "execution_count": null,
   "metadata": {
    "colab": {
     "base_uri": "https://localhost:8080/"
    },
    "id": "fREXmeNabAVb",
    "outputId": "2e399605-f45c-414e-d8f5-1a5be8499a93"
   },
   "outputs": [
    {
     "name": "stderr",
     "output_type": "stream",
     "text": [
      "/usr/local/lib/python3.8/dist-packages/keras/optimizers/optimizer_v2/adam.py:110: UserWarning: The `lr` argument is deprecated, use `learning_rate` instead.\n",
      "  super(Adam, self).__init__(name, **kwargs)\n"
     ]
    }
   ],
   "source": [
    "from tensorflow import keras\n",
    "from tensorflow.keras import applications\n",
    "from tensorflow.keras import layers\n",
    "from tensorflow.keras import optimizers\n",
    "from tensorflow.keras.models import Sequential ,Model, load_model\n",
    "from tensorflow.keras.layers import Dropout, Flatten, Dense ,Dropout\n",
    "from tensorflow.keras.callbacks import ModelCheckpoint, LearningRateScheduler, EarlyStopping, ReduceLROnPlateau, TensorBoard\n",
    "\n",
    "\n",
    "base_model = applications.VGG16(weights='imagenet', include_top=False, input_shape=(224,224,3))\n",
    "model = Sequential()\n",
    "model.add(base_model)\n",
    "model.add(Flatten(input_shape=base_model.output_shape[1:]))\n",
    "model.add(Dense(256, activation='relu'))\n",
    "model.add(Dropout(0.2))\n",
    "model.add(Dense(128, activation='relu'))\n",
    "model.add(Dropout(0.2))\n",
    "model.add(Dense(len(classses), activation='softmax'))\n",
    "model = Model(inputs=model.input, outputs=model.output)\n",
    "model.compile(loss='sparse_categorical_crossentropy',optimizer=optimizers.Adam(lr=1e-4),metrics=['accuracy'])"
   ]
  },
  {
   "cell_type": "code",
   "execution_count": null,
   "metadata": {
    "colab": {
     "base_uri": "https://localhost:8080/"
    },
    "id": "o415issGbDva",
    "outputId": "c36cc50d-bce8-47ba-8451-f3cc19215855",
    "scrolled": true
   },
   "outputs": [
    {
     "name": "stdout",
     "output_type": "stream",
     "text": [
      "Epoch 1/20\n",
      "20/20 [==============================] - 12s 546ms/step - loss: 1.4782 - accuracy: 0.4615 - val_loss: 0.9360 - val_accuracy: 0.6026\n",
      "Epoch 2/20\n",
      "20/20 [==============================] - 11s 533ms/step - loss: 0.9322 - accuracy: 0.5673 - val_loss: 0.9048 - val_accuracy: 0.6154\n",
      "Epoch 3/20\n",
      "20/20 [==============================] - 11s 538ms/step - loss: 0.8756 - accuracy: 0.6042 - val_loss: 0.9646 - val_accuracy: 0.6538\n",
      "Epoch 4/20\n",
      "20/20 [==============================] - 11s 542ms/step - loss: 0.9402 - accuracy: 0.5625 - val_loss: 0.8331 - val_accuracy: 0.6154\n",
      "Epoch 5/20\n",
      "20/20 [==============================] - 11s 548ms/step - loss: 0.8528 - accuracy: 0.6090 - val_loss: 0.7715 - val_accuracy: 0.6538\n",
      "Epoch 6/20\n",
      "20/20 [==============================] - 11s 551ms/step - loss: 0.7544 - accuracy: 0.6554 - val_loss: 0.7840 - val_accuracy: 0.6410\n",
      "Epoch 7/20\n",
      "20/20 [==============================] - 11s 550ms/step - loss: 0.7206 - accuracy: 0.6763 - val_loss: 0.8196 - val_accuracy: 0.5897\n",
      "Epoch 8/20\n",
      "20/20 [==============================] - 11s 554ms/step - loss: 0.6923 - accuracy: 0.7003 - val_loss: 0.7153 - val_accuracy: 0.6667\n",
      "Epoch 9/20\n",
      "20/20 [==============================] - 11s 558ms/step - loss: 0.4942 - accuracy: 0.7981 - val_loss: 1.0202 - val_accuracy: 0.7244\n",
      "Epoch 10/20\n",
      "20/20 [==============================] - 11s 560ms/step - loss: 0.5162 - accuracy: 0.7740 - val_loss: 0.8573 - val_accuracy: 0.7692\n",
      "Epoch 11/20\n",
      "20/20 [==============================] - 11s 562ms/step - loss: 0.4242 - accuracy: 0.8333 - val_loss: 0.6621 - val_accuracy: 0.7051\n",
      "Epoch 12/20\n",
      "20/20 [==============================] - 11s 565ms/step - loss: 0.3635 - accuracy: 0.8381 - val_loss: 0.6014 - val_accuracy: 0.7564\n",
      "Epoch 13/20\n",
      "20/20 [==============================] - 11s 567ms/step - loss: 0.3515 - accuracy: 0.8846 - val_loss: 0.7873 - val_accuracy: 0.7564\n",
      "Epoch 14/20\n",
      "20/20 [==============================] - 11s 568ms/step - loss: 0.3029 - accuracy: 0.8782 - val_loss: 0.7759 - val_accuracy: 0.7051\n",
      "Epoch 15/20\n",
      "20/20 [==============================] - 11s 570ms/step - loss: 0.3351 - accuracy: 0.8718 - val_loss: 0.5334 - val_accuracy: 0.7564\n",
      "Epoch 16/20\n",
      "20/20 [==============================] - 11s 571ms/step - loss: 0.2819 - accuracy: 0.8942 - val_loss: 0.7821 - val_accuracy: 0.8205\n",
      "Epoch 17/20\n",
      "20/20 [==============================] - 11s 572ms/step - loss: 0.2374 - accuracy: 0.9167 - val_loss: 0.5471 - val_accuracy: 0.8077\n",
      "Epoch 18/20\n",
      "20/20 [==============================] - 11s 574ms/step - loss: 0.2112 - accuracy: 0.9327 - val_loss: 0.4389 - val_accuracy: 0.8141\n",
      "Epoch 19/20\n",
      "20/20 [==============================] - 12s 576ms/step - loss: 0.0981 - accuracy: 0.9631 - val_loss: 0.7946 - val_accuracy: 0.8590\n",
      "Epoch 20/20\n",
      "20/20 [==============================] - 11s 573ms/step - loss: 0.0873 - accuracy: 0.9712 - val_loss: 0.8018 - val_accuracy: 0.8013\n"
     ]
    }
   ],
   "source": [
    "progess = model.fit(x=X_train,y=y_train,epochs=20,validation_data= (X_test, y_test))"
   ]
  },
  {
   "cell_type": "code",
   "execution_count": null,
   "metadata": {
    "colab": {
     "base_uri": "https://localhost:8080/",
     "height": 1000
    },
    "id": "amJjxjt5bGf6",
    "outputId": "6ef7553f-11f2-4ecf-f701-6bb0181e72ec"
   },
   "outputs": [
    {
     "data": {
      "image/png": "[encoded data removed]",
      "text/plain": [
       "<Figure size 1080x576 with 1 Axes>"
      ]
     },
     "metadata": {},
     "output_type": "display_data"
    },
    {
     "data": {
      "image/png": "[encoded data removed]",
      "text/plain": [
       "<Figure size 1080x576 with 1 Axes>"
      ]
     },
     "metadata": {},
     "output_type": "display_data"
    }
   ],
   "source": [
    "plt.plot(progess.history['accuracy'])\n",
    "plt.plot(progess.history['val_accuracy'])\n",
    "plt.title('model accuracy')\n",
    "plt.ylabel('accuracy')\n",
    "plt.xlabel('epoch')\n",
    "plt.legend(['train', 'test'], loc='upper left')\n",
    "plt.show()\n",
    "# summarize history for loss\n",
    "plt.plot(progess.history['loss'])\n",
    "plt.plot(progess.history['val_loss'])\n",
    "plt.title('model loss')\n",
    "plt.ylabel('loss')\n",
    "plt.xlabel('epoch')\n",
    "plt.legend(['train', 'test'], loc='upper left')\n",
    "plt.show()"
   ]
  },
  {
   "cell_type": "code",
   "execution_count": null,
   "metadata": {
    "colab": {
     "base_uri": "https://localhost:8080/"
    },
    "id": "7zCpU1KIbTV-",
    "outputId": "d8572018-9cf2-4bb8-f917-b79f82a9dad6"
   },
   "outputs": [
    {
     "name": "stdout",
     "output_type": "stream",
     "text": [
      "5/5 [==============================] - 1s 148ms/step\n"
     ]
    }
   ],
   "source": [
    "from sklearn.metrics import classification_report, confusion_matrix\n",
    "y_pred = model.predict(X_test)"
   ]
  },
  {
   "cell_type": "code",
   "execution_count": null,
   "metadata": {
    "id": "Hr8eiN23bVqf"
   },
   "outputs": [],
   "source": [
    "y_pred_new=[]\n",
    "for i in y_pred:\n",
    "    #print(i)\n",
    "    #break\n",
    "    y=np.argmax(i)\n",
    "    #break\n",
    "    #print(y)\n",
    "    y_pred_new.append(y)\n",
    "    #break"
   ]
  },
  {
   "cell_type": "code",
   "execution_count": null,
   "metadata": {
    "colab": {
     "base_uri": "https://localhost:8080/",
     "height": 230
    },
    "id": "5qGINuf9bXBH",
    "outputId": "6d9af44d-f7c7-485a-94ba-22fe73641342"
   },
   "outputs": [
    {
     "data": {
      "text/plain": [
       "<matplotlib.axes._subplots.AxesSubplot at 0x7f521537f760>"
      ]
     },
     "execution_count": 60,
     "metadata": {},
     "output_type": "execute_result"
    },
    {
     "data": {
      "image/png": "[encoded data removed]",
      "text/plain": [
       "<Figure size 720x216 with 2 Axes>"
      ]
     },
     "metadata": {},
     "output_type": "display_data"
    }
   ],
   "source": [
    "from sklearn import metrics\n",
    "cm=metrics.confusion_matrix(y_test,y_pred_new)\n",
    "import pandas as pd\n",
    "df_cm=pd.DataFrame(cm)\n",
    "import seaborn as sns\n",
    "plt.figure(figsize = (10,3))\n",
    "sns.heatmap(df_cm, annot=True)"
   ]
  },
  {
   "cell_type": "code",
   "execution_count": null,
   "metadata": {
    "colab": {
     "base_uri": "https://localhost:8080/"
    },
    "id": "tMPlg1b0bZdX",
    "outputId": "57bf5dc0-b5a9-4dc8-db11-9c0d3d11112c"
   },
   "outputs": [
    {
     "name": "stderr",
     "output_type": "stream",
     "text": [
      "WARNING:absl:Found untraced functions such as _jit_compiled_convolution_op, _jit_compiled_convolution_op, _jit_compiled_convolution_op, _jit_compiled_convolution_op, _jit_compiled_convolution_op while saving (showing 5 of 13). These functions will not be directly callable after loading.\n"
     ]
    }
   ],
   "source": [
    "model.save(\"VGG_breast_cancer.hp5\")"
   ]
  },
  {
   "cell_type": "code",
   "execution_count": null,
   "metadata": {
    "colab": {
     "base_uri": "https://localhost:8080/"
    },
    "id": "tMPnjH2lkBRh",
    "outputId": "d57dd4b4-2de0-4c49-ad34-308e3b30e66c"
   },
   "outputs": [
    {
     "name": "stdout",
     "output_type": "stream",
     "text": [
      "updating: content/VGG_breast_cancer.hp5/ (stored 0%)\n",
      "updating: content/VGG_breast_cancer.hp5/saved_model.pb (deflated 90%)\n",
      "updating: content/VGG_breast_cancer.hp5/variables/ (stored 0%)\n",
      "updating: content/VGG_breast_cancer.hp5/variables/variables.data-00000-of-00001 (deflated 11%)\n",
      "updating: content/VGG_breast_cancer.hp5/variables/variables.index (deflated 74%)\n",
      "updating: content/VGG_breast_cancer.hp5/assets/ (stored 0%)\n",
      "updating: content/VGG_breast_cancer.hp5/keras_metadata.pb (deflated 96%)\n"
     ]
    }
   ],
   "source": [
    "!zip -r '/content/VGG_breast_cancer.zip' '/content/VGG_breast_cancer.hp5'"
   ]
  },
  {
   "cell_type": "code",
   "execution_count": null,
   "metadata": {
    "id": "_WONOwHgekNq"
   },
   "outputs": [],
   "source": [
    "# Inception Model"
   ]
  },
  {
   "cell_type": "code",
   "execution_count": null,
   "metadata": {
    "colab": {
     "base_uri": "https://localhost:8080/"
    },
    "id": "Ga2xKZmYekLp",
    "outputId": "6ab67245-305a-43b8-d438-e629ac7575a7"
   },
   "outputs": [
    {
     "name": "stderr",
     "output_type": "stream",
     "text": [
      "/usr/local/lib/python3.8/dist-packages/keras/optimizers/optimizer_v2/adam.py:110: UserWarning: The `lr` argument is deprecated, use `learning_rate` instead.\n",
      "  super(Adam, self).__init__(name, **kwargs)\n"
     ]
    }
   ],
   "source": [
    "from tensorflow import keras\n",
    "from tensorflow.keras import applications\n",
    "from tensorflow.keras import layers\n",
    "from tensorflow.keras.callbacks import ModelCheckpoint, LearningRateScheduler, EarlyStopping, ReduceLROnPlateau, TensorBoard\n",
    "from sklearn.model_selection import train_test_split\n",
    "\n",
    "\n",
    "base_model = applications.InceptionV3(weights='imagenet', include_top=False, input_shape=(224,224,3))\n",
    "#X_train,X_test,y_train,y_test=train_test_split(x,y,test_size=0.2)\n",
    "model_incep = Sequential()\n",
    "data_augmentation = keras.Sequential([layers.experimental.preprocessing.RandomRotation(0.1)])\n",
    "model_incep.add(base_model)\n",
    "model_incep.add(Flatten(input_shape=base_model.output_shape[1:]))\n",
    "model_incep.add(Dense(256, activation='relu'))\n",
    "model_incep.add(Dropout(0.2))\n",
    "model_incep.add(Dense(128, activation='relu'))\n",
    "model_incep.add(Dropout(0.2))\n",
    "model_incep.add(Dense(len(classses), activation='softmax'))\n",
    "\n",
    "model_incep = Model(inputs=model_incep.input, outputs=model_incep.output)\n",
    "model_incep.compile(loss='sparse_categorical_crossentropy', optimizer=optimizers.Adam(lr=1e-4),\n",
    "              metrics=['accuracy'])\n",
    "\n",
    "\n",
    "earlyStopping = EarlyStopping(monitor='val_loss',\n",
    "                              min_delta=0,\n",
    "                              patience=3,\n",
    "                              verbose=1)\n",
    "\n",
    "#early_stop=[earlyStopping]\n"
   ]
  },
  {
   "cell_type": "code",
   "execution_count": null,
   "metadata": {
    "colab": {
     "base_uri": "https://localhost:8080/"
    },
    "id": "yl5G1kSAekJR",
    "outputId": "51271c3e-4a1b-47f3-f8ce-8b3d901a958d"
   },
   "outputs": [
    {
     "name": "stdout",
     "output_type": "stream",
     "text": [
      "Epoch 1/10\n",
      "39/39 [==============================] - 16s 193ms/step - loss: 1.0785 - accuracy: 0.5497 - val_loss: 1.1463 - val_accuracy: 0.6026\n",
      "Epoch 2/10\n",
      "39/39 [==============================] - 6s 146ms/step - loss: 0.5363 - accuracy: 0.7837 - val_loss: 1.2999 - val_accuracy: 0.6538\n",
      "Epoch 3/10\n",
      "39/39 [==============================] - 6s 147ms/step - loss: 0.2536 - accuracy: 0.9135 - val_loss: 0.5771 - val_accuracy: 0.7628\n",
      "Epoch 4/10\n",
      "39/39 [==============================] - 6s 146ms/step - loss: 0.1723 - accuracy: 0.9311 - val_loss: 0.8719 - val_accuracy: 0.7821\n",
      "Epoch 5/10\n",
      "39/39 [==============================] - 6s 147ms/step - loss: 0.0958 - accuracy: 0.9776 - val_loss: 0.9138 - val_accuracy: 0.8077\n",
      "Epoch 6/10\n",
      "39/39 [==============================] - 6s 148ms/step - loss: 0.0371 - accuracy: 0.9872 - val_loss: 0.6793 - val_accuracy: 0.8333\n",
      "Epoch 7/10\n",
      "39/39 [==============================] - 6s 154ms/step - loss: 0.0357 - accuracy: 0.9920 - val_loss: 0.8343 - val_accuracy: 0.8077\n",
      "Epoch 8/10\n",
      "39/39 [==============================] - 6s 148ms/step - loss: 0.0630 - accuracy: 0.9824 - val_loss: 0.8548 - val_accuracy: 0.7821\n",
      "Epoch 9/10\n",
      "39/39 [==============================] - 6s 148ms/step - loss: 0.0371 - accuracy: 0.9840 - val_loss: 0.8769 - val_accuracy: 0.8397\n",
      "Epoch 10/10\n",
      "39/39 [==============================] - 6s 149ms/step - loss: 0.0517 - accuracy: 0.9776 - val_loss: 0.9884 - val_accuracy: 0.7885\n"
     ]
    }
   ],
   "source": [
    "Inception_progess_1 = model_incep.fit(x=X_train,y=y_train,epochs=10,validation_data= (X_test, y_test),batch_size=16)"
   ]
  },
  {
   "cell_type": "code",
   "execution_count": null,
   "metadata": {
    "colab": {
     "base_uri": "https://localhost:8080/"
    },
    "id": "lw7e545yvw2X",
    "outputId": "b096a422-d9a3-4b1a-ad0a-91ed627db13e"
   },
   "outputs": [
    {
     "name": "stderr",
     "output_type": "stream",
     "text": [
      "WARNING:absl:Found untraced functions such as _jit_compiled_convolution_op, _jit_compiled_convolution_op, _jit_compiled_convolution_op, _jit_compiled_convolution_op, _jit_compiled_convolution_op while saving (showing 5 of 94). These functions will not be directly callable after loading.\n"
     ]
    },
    {
     "name": "stdout",
     "output_type": "stream",
     "text": [
      "  adding: content/Inception_breast_cancer.hp5/ (stored 0%)\n",
      "  adding: content/Inception_breast_cancer.hp5/saved_model.pb (deflated 92%)\n",
      "  adding: content/Inception_breast_cancer.hp5/variables/ (stored 0%)\n",
      "  adding: content/Inception_breast_cancer.hp5/variables/variables.data-00000-of-00001 (deflated 8%)\n",
      "  adding: content/Inception_breast_cancer.hp5/variables/variables.index (deflated 79%)\n",
      "  adding: content/Inception_breast_cancer.hp5/assets/ (stored 0%)\n",
      "  adding: content/Inception_breast_cancer.hp5/keras_metadata.pb (deflated 96%)\n"
     ]
    }
   ],
   "source": [
    "model_incep.save(\"Inception_breast_cancer.hp5\")\n",
    "\n",
    "!zip -r '/content/Inception_breast_cancer.zip' '/content/Inception_breast_cancer.hp5'"
   ]
  },
  {
   "cell_type": "code",
   "execution_count": null,
   "metadata": {
    "colab": {
     "base_uri": "https://localhost:8080/",
     "height": 1000
    },
    "id": "8pmMjca_h_te",
    "outputId": "61be988a-7c24-489c-a2ec-ea3d02264fcc"
   },
   "outputs": [
    {
     "data": {
      "image/png": "[encoded data removed]",
      "text/plain": [
       "<Figure size 1080x576 with 1 Axes>"
      ]
     },
     "metadata": {},
     "output_type": "display_data"
    },
    {
     "data": {
      "image/png": "[encoded data removed]",
      "text/plain": [
       "<Figure size 1080x576 with 1 Axes>"
      ]
     },
     "metadata": {},
     "output_type": "display_data"
    }
   ],
   "source": [
    "plt.plot(Inception_progess_1.history['accuracy'])\n",
    "plt.plot(Inception_progess_1.history['val_accuracy'])\n",
    "plt.title('model accuracy')\n",
    "plt.ylabel('accuracy')\n",
    "plt.xlabel('epoch')\n",
    "plt.legend(['train', 'test'], loc='upper left')\n",
    "plt.show()\n",
    "# summarize history for loss\n",
    "plt.plot(Inception_progess_1.history['loss'])\n",
    "plt.plot(Inception_progess_1.history['val_loss'])\n",
    "plt.title('model loss')\n",
    "plt.ylabel('loss')\n",
    "plt.xlabel('epoch')\n",
    "plt.legend(['train', 'test'], loc='upper left')\n",
    "plt.show()"
   ]
  },
  {
   "cell_type": "code",
   "execution_count": null,
   "metadata": {
    "colab": {
     "base_uri": "https://localhost:8080/"
    },
    "id": "sA4EY3EEh_tf",
    "outputId": "ab902876-94dc-46c7-b12c-278b4c398846"
   },
   "outputs": [
    {
     "name": "stdout",
     "output_type": "stream",
     "text": [
      "5/5 [==============================] - 3s 84ms/step\n"
     ]
    }
   ],
   "source": [
    "Y_pred = model_incep.predict(X_test)\n",
    "y_pred = np.argmax(Y_pred, axis=1)"
   ]
  },
  {
   "cell_type": "code",
   "execution_count": null,
   "metadata": {
    "colab": {
     "base_uri": "https://localhost:8080/"
    },
    "id": "igtMyCdYh_tf",
    "outputId": "62a47529-d882-4717-a094-e148ebe946db"
   },
   "outputs": [
    {
     "name": "stdout",
     "output_type": "stream",
     "text": [
      "5/5 [==============================] - 0s 75ms/step - loss: 0.9883 - accuracy: 0.7885\n"
     ]
    }
   ],
   "source": [
    "score=model_incep.evaluate(X_test,y_test)\n",
    "accuracy_list.append(score[1])"
   ]
  },
  {
   "cell_type": "code",
   "execution_count": null,
   "metadata": {
    "colab": {
     "base_uri": "https://localhost:8080/",
     "height": 554
    },
    "id": "0jRQjZy7h_tf",
    "outputId": "2a89fb95-678d-4cb9-f038-edc4e83facbf"
   },
   "outputs": [
    {
     "name": "stdout",
     "output_type": "stream",
     "text": [
      "[[21 17  1]\n",
      " [ 8 82  3]\n",
      " [ 2  2 20]]\n"
     ]
    },
    {
     "data": {
      "text/plain": [
       "<matplotlib.axes._subplots.AxesSubplot at 0x7f50b2d92f10>"
      ]
     },
     "execution_count": 70,
     "metadata": {},
     "output_type": "execute_result"
    },
    {
     "data": {
      "image/png": "[encoded data removed]",
      "text/plain": [
       "<Figure size 1080x576 with 2 Axes>"
      ]
     },
     "metadata": {},
     "output_type": "display_data"
    }
   ],
   "source": [
    "cf_matrix = confusion_matrix(y_test, y_pred)\n",
    "print(cf_matrix)\n",
    "\n",
    "import seaborn as sns\n",
    "sns.set(rc = {'figure.figsize':(15,8)})\n",
    "sns.heatmap(cf_matrix, annot=True)"
   ]
  },
  {
   "cell_type": "code",
   "execution_count": null,
   "metadata": {
    "colab": {
     "base_uri": "https://localhost:8080/"
    },
    "id": "0eIrbjY-h_tf",
    "outputId": "7ef61616-4054-4611-ac6f-359d9e36feb4"
   },
   "outputs": [
    {
     "data": {
      "text/plain": [
       "[0.7884615659713745]"
      ]
     },
     "execution_count": 71,
     "metadata": {},
     "output_type": "execute_result"
    }
   ],
   "source": [
    "accuracy_list"
   ]
  },
  {
   "cell_type": "code",
   "execution_count": null,
   "metadata": {
    "id": "QBTNsIAYh_tf"
   },
   "outputs": [],
   "source": [
    "# ResNet50"
   ]
  },
  {
   "cell_type": "code",
   "execution_count": null,
   "metadata": {
    "colab": {
     "base_uri": "https://localhost:8080/"
    },
    "id": "T0c0NVLPh_tf",
    "outputId": "028217d4-a12e-4df5-c4ff-f2728f4752a2"
   },
   "outputs": [
    {
     "name": "stderr",
     "output_type": "stream",
     "text": [
      "/usr/local/lib/python3.8/dist-packages/keras/optimizers/optimizer_v2/adam.py:110: UserWarning: The `lr` argument is deprecated, use `learning_rate` instead.\n",
      "  super(Adam, self).__init__(name, **kwargs)\n"
     ]
    }
   ],
   "source": [
    "from tensorflow.keras import applications\n",
    "from tensorflow.keras import layers\n",
    "from tensorflow.keras.callbacks import ModelCheckpoint, LearningRateScheduler, EarlyStopping, ReduceLROnPlateau, TensorBoard\n",
    "from sklearn.model_selection import train_test_split\n",
    "\n",
    "\n",
    "base_model = applications.ResNet50(weights='imagenet', include_top=False, input_shape=(224,224,3))\n",
    "#X_train,X_test,y_train,y_test=train_test_split(x,y,test_size=0.2)\n",
    "model_res = Sequential()\n",
    "#data_augmentation = keras.Sequential([layers.experimental.preprocessing.RandomRotation(0.1)])\n",
    "model_res.add(base_model)\n",
    "model_res.add(Flatten(input_shape=base_model.output_shape[1:]))\n",
    "model_res.add(Dense(512, activation='relu'))\n",
    "model_res.add(Dropout(0.5))\n",
    "model_res.add(Dense(256, activation='relu'))\n",
    "model_res.add(Dropout(0.5))\n",
    "model_res.add(Dense(128, activation='relu'))\n",
    "model_res.add(Dropout(0.5))\n",
    "model_res.add(Dense(64, activation='relu'))\n",
    "model_res.add(Dropout(0.5))\n",
    "model_res.add(Dense(len(classses), activation='softmax'))\n",
    "\n",
    "model_res = Model(inputs=model_res.input, outputs=model_res.output)\n",
    "model_res.compile(loss='sparse_categorical_crossentropy', optimizer=optimizers.Adam(lr=1e-4),\n",
    "              metrics=['accuracy'])\n",
    "\n",
    "\n",
    "earlyStopping = EarlyStopping(monitor='val_loss',\n",
    "                              min_delta=0,\n",
    "                              patience=3,\n",
    "                              verbose=1)"
   ]
  },
  {
   "cell_type": "code",
   "execution_count": null,
   "metadata": {
    "colab": {
     "base_uri": "https://localhost:8080/"
    },
    "id": "05vS4wsbh_tg",
    "outputId": "7e845046-3fd7-4499-8ea4-1b663447dd20"
   },
   "outputs": [
    {
     "name": "stdout",
     "output_type": "stream",
     "text": [
      "Epoch 1/10\n",
      "20/20 [==============================] - 15s 399ms/step - loss: 3.6655 - accuracy: 0.3365 - val_loss: 1.0819 - val_accuracy: 0.5962\n",
      "Epoch 2/10\n",
      "20/20 [==============================] - 7s 339ms/step - loss: 1.6482 - accuracy: 0.3782 - val_loss: 1.0629 - val_accuracy: 0.5962\n",
      "Epoch 3/10\n",
      "20/20 [==============================] - 7s 341ms/step - loss: 1.5633 - accuracy: 0.3574 - val_loss: 1.1247 - val_accuracy: 0.5962\n",
      "Epoch 4/10\n",
      "20/20 [==============================] - 7s 342ms/step - loss: 1.5804 - accuracy: 0.4487 - val_loss: 0.9929 - val_accuracy: 0.6026\n",
      "Epoch 5/10\n",
      "20/20 [==============================] - 7s 344ms/step - loss: 1.5857 - accuracy: 0.4247 - val_loss: 0.9299 - val_accuracy: 0.6026\n",
      "Epoch 6/10\n",
      "20/20 [==============================] - 7s 345ms/step - loss: 1.3225 - accuracy: 0.4840 - val_loss: 0.9168 - val_accuracy: 0.6026\n",
      "Epoch 7/10\n",
      "20/20 [==============================] - 7s 345ms/step - loss: 1.3186 - accuracy: 0.4631 - val_loss: 0.9076 - val_accuracy: 0.6154\n",
      "Epoch 8/10\n",
      "20/20 [==============================] - 7s 345ms/step - loss: 1.4366 - accuracy: 0.4904 - val_loss: 0.8985 - val_accuracy: 0.6154\n",
      "Epoch 9/10\n",
      "20/20 [==============================] - 7s 353ms/step - loss: 1.3034 - accuracy: 0.5048 - val_loss: 1.0134 - val_accuracy: 0.6090\n",
      "Epoch 10/10\n",
      "20/20 [==============================] - 7s 343ms/step - loss: 1.1712 - accuracy: 0.5224 - val_loss: 1.2212 - val_accuracy: 0.6090\n"
     ]
    }
   ],
   "source": [
    "ResNet_progess_1 = model_res.fit(x=X_train,y=y_train,epochs=10,validation_data= (X_test, y_test),batch_size=32)"
   ]
  },
  {
   "cell_type": "code",
   "execution_count": null,
   "metadata": {
    "colab": {
     "base_uri": "https://localhost:8080/"
    },
    "id": "AGA2FsUov7L-",
    "outputId": "af029c35-53c6-4c77-811e-5433e17e664b"
   },
   "outputs": [
    {
     "name": "stderr",
     "output_type": "stream",
     "text": [
      "WARNING:absl:Found untraced functions such as _jit_compiled_convolution_op, _jit_compiled_convolution_op, _jit_compiled_convolution_op, _jit_compiled_convolution_op, _jit_compiled_convolution_op while saving (showing 5 of 53). These functions will not be directly callable after loading.\n"
     ]
    },
    {
     "name": "stdout",
     "output_type": "stream",
     "text": [
      "  adding: content/res_breast_cancer.hp5/ (stored 0%)\n",
      "  adding: content/res_breast_cancer.hp5/saved_model.pb (deflated 92%)\n",
      "  adding: content/res_breast_cancer.hp5/variables/ (stored 0%)\n",
      "  adding: content/res_breast_cancer.hp5/variables/variables.data-00000-of-00001 (deflated 7%)\n",
      "  adding: content/res_breast_cancer.hp5/variables/variables.index (deflated 80%)\n",
      "  adding: content/res_breast_cancer.hp5/assets/ (stored 0%)\n",
      "  adding: content/res_breast_cancer.hp5/keras_metadata.pb (deflated 96%)\n"
     ]
    }
   ],
   "source": [
    "model_res.save(\"res_breast_cancer.hp5\")\n",
    "\n",
    "!zip -r '/content/res_breast_cancer.zip' '/content/res_breast_cancer.hp5'"
   ]
  },
  {
   "cell_type": "code",
   "execution_count": null,
   "metadata": {
    "colab": {
     "base_uri": "https://localhost:8080/",
     "height": 1000
    },
    "id": "IkbaS4Tsh_tg",
    "outputId": "02893878-b1bd-463a-94f9-4f3cd0e89629"
   },
   "outputs": [
    {
     "data": {
      "image/png": "[encoded data removed]",
      "text/plain": [
       "<Figure size 1080x576 with 1 Axes>"
      ]
     },
     "metadata": {},
     "output_type": "display_data"
    },
    {
     "data": {
      "image/png": "[encoded data removed]",
      "text/plain": [
       "<Figure size 1080x576 with 1 Axes>"
      ]
     },
     "metadata": {},
     "output_type": "display_data"
    }
   ],
   "source": [
    "plt.plot(ResNet_progess_1.history['accuracy'])\n",
    "plt.plot(ResNet_progess_1.history['val_accuracy'])\n",
    "plt.title('model accuracy')\n",
    "plt.ylabel('accuracy')\n",
    "plt.xlabel('epoch')\n",
    "plt.legend(['train', 'test'], loc='upper left')\n",
    "plt.show()\n",
    "# summarize history for loss\n",
    "plt.plot(ResNet_progess_1.history['loss'])\n",
    "plt.plot(ResNet_progess_1.history['val_loss'])\n",
    "plt.title('model loss')\n",
    "plt.ylabel('loss')\n",
    "plt.xlabel('epoch')\n",
    "plt.legend(['train', 'test'], loc='upper left')\n",
    "plt.show()"
   ]
  },
  {
   "cell_type": "code",
   "execution_count": null,
   "metadata": {
    "colab": {
     "base_uri": "https://localhost:8080/"
    },
    "id": "V9P_QqElh_tg",
    "outputId": "0dff6133-9d98-46de-ac17-aa38ade5ab0e"
   },
   "outputs": [
    {
     "name": "stdout",
     "output_type": "stream",
     "text": [
      "5/5 [==============================] - 2s 104ms/step\n"
     ]
    }
   ],
   "source": [
    "Y_pred = model_res.predict(X_test)\n",
    "y_pred = np.argmax(Y_pred, axis=1)"
   ]
  },
  {
   "cell_type": "code",
   "execution_count": null,
   "metadata": {
    "colab": {
     "base_uri": "https://localhost:8080/",
     "height": 554
    },
    "id": "lXGaJTJwh_tg",
    "outputId": "ffa52714-79bb-4003-edf4-fa5a0ab957f0"
   },
   "outputs": [
    {
     "name": "stdout",
     "output_type": "stream",
     "text": [
      "[[ 2 37  0]\n",
      " [ 0 93  0]\n",
      " [ 0 24  0]]\n"
     ]
    },
    {
     "data": {
      "text/plain": [
       "<matplotlib.axes._subplots.AxesSubplot at 0x7f50b50a2d30>"
      ]
     },
     "execution_count": 78,
     "metadata": {},
     "output_type": "execute_result"
    },
    {
     "data": {
      "image/png": "[encoded data removed]",
      "text/plain": [
       "<Figure size 1080x576 with 2 Axes>"
      ]
     },
     "metadata": {},
     "output_type": "display_data"
    }
   ],
   "source": [
    "cf_matrix = confusion_matrix(y_test, y_pred)\n",
    "print(cf_matrix)\n",
    "\n",
    "import seaborn as sns\n",
    "sns.set(rc = {'figure.figsize':(15,8)})\n",
    "sns.heatmap(cf_matrix, annot=True)"
   ]
  },
  {
   "cell_type": "code",
   "execution_count": null,
   "metadata": {
    "id": "fGxrIiFzh_tg"
   },
   "outputs": [],
   "source": [
    "# print(classification_report(y_test, y_pred, target_names=classses))"
   ]
  },
  {
   "cell_type": "code",
   "execution_count": null,
   "metadata": {
    "colab": {
     "base_uri": "https://localhost:8080/"
    },
    "id": "CiPbRUohh_tg",
    "outputId": "19587804-0ece-4380-9b7e-2455ac291085"
   },
   "outputs": [
    {
     "name": "stdout",
     "output_type": "stream",
     "text": [
      "5/5 [==============================] - 0s 92ms/step - loss: 1.2212 - accuracy: 0.6090\n"
     ]
    }
   ],
   "source": [
    "score=model_res.evaluate(X_test,y_test)"
   ]
  },
  {
   "cell_type": "code",
   "execution_count": null,
   "metadata": {
    "id": "LywKA_kTlP45"
   },
   "outputs": [],
   "source": []
  },
  {
   "cell_type": "code",
   "execution_count": null,
   "metadata": {
    "id": "Wrd5Jy-jh_th"
   },
   "outputs": [],
   "source": [
    "# EfficientNetB7"
   ]
  },
  {
   "cell_type": "code",
   "execution_count": null,
   "metadata": {
    "id": "LDKo_os1h_th"
   },
   "outputs": [],
   "source": [
    "from tensorflow.keras import applications\n",
    "from tensorflow.keras import layers\n",
    "from tensorflow.keras.callbacks import ModelCheckpoint, LearningRateScheduler, EarlyStopping, ReduceLROnPlateau, TensorBoard\n",
    "from sklearn.model_selection import train_test_split\n",
    "#X_train,X_test,y_train,y_test=train_test_split(x,y,test_size=0.2)\n",
    "\n",
    "\n",
    "base_model = applications.EfficientNetB7(weights='imagenet', include_top=False, input_shape=(224,224,3))\n",
    "\n",
    "model_eff = Sequential()\n",
    "#data_augmentation = keras.Sequential([layers.experimental.preprocessing.RandomRotation(0.1)])\n",
    "model_eff.add(base_model)\n",
    "model_eff.add(Flatten(input_shape=base_model.output_shape[1:]))\n",
    "model_eff.add(Dense(512, activation='relu'))\n",
    "model_eff.add(Dense(256, activation='relu'))\n",
    "model_eff.add(Dense(128, activation='relu'))\n",
    "model_eff.add(Dense(64, activation='relu'))\n",
    "model_eff.add(Dense(len(classses), activation='softmax'))\n",
    "\n",
    "model_eff = Model(inputs=model_eff.input, outputs=model_eff.output)\n",
    "model_eff.compile(loss='sparse_categorical_crossentropy', optimizer=optimizers.Adam(lr=1e-4),\n",
    "              metrics=['accuracy'])\n"
   ]
  },
  {
   "cell_type": "code",
   "execution_count": null,
   "metadata": {
    "colab": {
     "base_uri": "https://localhost:8080/"
    },
    "id": "QoGshmqvh_th",
    "outputId": "b02e16e2-0aed-4dca-fdd9-02d4edd015a6"
   },
   "outputs": [
    {
     "name": "stdout",
     "output_type": "stream",
     "text": [
      "Epoch 1/10\n",
      "78/78 [==============================] - 77s 614ms/step - loss: 0.8449 - accuracy: 0.6458 - val_loss: 0.7016 - val_accuracy: 0.6795\n",
      "Epoch 2/10\n",
      "78/78 [==============================] - 42s 536ms/step - loss: 0.2976 - accuracy: 0.8894 - val_loss: 0.5784 - val_accuracy: 0.7821\n",
      "Epoch 3/10\n",
      "78/78 [==============================] - 42s 544ms/step - loss: 0.1445 - accuracy: 0.9551 - val_loss: 0.6033 - val_accuracy: 0.8013\n",
      "Epoch 4/10\n",
      "78/78 [==============================] - 42s 543ms/step - loss: 0.0539 - accuracy: 0.9808 - val_loss: 0.9340 - val_accuracy: 0.7756\n",
      "Epoch 5/10\n",
      "78/78 [==============================] - 43s 551ms/step - loss: 0.1547 - accuracy: 0.9551 - val_loss: 0.7606 - val_accuracy: 0.7885\n",
      "Epoch 6/10\n",
      "78/78 [==============================] - 43s 549ms/step - loss: 0.0707 - accuracy: 0.9792 - val_loss: 0.4937 - val_accuracy: 0.8269\n",
      "Epoch 7/10\n",
      "78/78 [==============================] - 43s 547ms/step - loss: 0.0693 - accuracy: 0.9728 - val_loss: 0.6300 - val_accuracy: 0.8462\n",
      "Epoch 8/10\n",
      "78/78 [==============================] - 43s 557ms/step - loss: 0.1163 - accuracy: 0.9647 - val_loss: 0.6198 - val_accuracy: 0.8269\n",
      "Epoch 9/10\n",
      "78/78 [==============================] - 43s 550ms/step - loss: 0.0607 - accuracy: 0.9824 - val_loss: 1.0613 - val_accuracy: 0.7949\n",
      "Epoch 10/10\n",
      "78/78 [==============================] - 43s 555ms/step - loss: 0.0599 - accuracy: 0.9808 - val_loss: 0.7449 - val_accuracy: 0.8013\n"
     ]
    }
   ],
   "source": [
    "EfficientNet_progess_1 = model_eff.fit(x=X_train,y=y_train,epochs=10,validation_data= (X_test, y_test),batch_size=8)"
   ]
  },
  {
   "cell_type": "code",
   "execution_count": null,
   "metadata": {
    "colab": {
     "base_uri": "https://localhost:8080/"
    },
    "id": "04trvXumwDeW",
    "outputId": "d2f70c24-6911-4f53-f053-0e4bf86a2f2d"
   },
   "outputs": [
    {
     "name": "stderr",
     "output_type": "stream",
     "text": [
      "WARNING:absl:Found untraced functions such as _jit_compiled_convolution_op, _jit_compiled_convolution_op, _jit_compiled_convolution_op, _jit_compiled_convolution_op, _jit_compiled_convolution_op while saving (showing 5 of 273). These functions will not be directly callable after loading.\n"
     ]
    },
    {
     "name": "stdout",
     "output_type": "stream",
     "text": [
      "  adding: content/efficeint_breast_cancer.hp5/ (stored 0%)\n",
      "  adding: content/efficeint_breast_cancer.hp5/saved_model.pb (deflated 92%)\n",
      "  adding: content/efficeint_breast_cancer.hp5/variables/ (stored 0%)\n",
      "  adding: content/efficeint_breast_cancer.hp5/variables/variables.data-00000-of-00001 (deflated 8%)\n",
      "  adding: content/efficeint_breast_cancer.hp5/variables/variables.index (deflated 80%)\n",
      "  adding: content/efficeint_breast_cancer.hp5/assets/ (stored 0%)\n",
      "  adding: content/efficeint_breast_cancer.hp5/keras_metadata.pb (deflated 96%)\n"
     ]
    }
   ],
   "source": [
    "model_eff.save(\"efficeint_breast_cancer.hp5\")\n",
    "\n",
    "!zip -r '/content/efficeint_breast_cancer.zip' '/content/efficeint_breast_cancer.hp5'"
   ]
  },
  {
   "cell_type": "code",
   "execution_count": null,
   "metadata": {
    "colab": {
     "base_uri": "https://localhost:8080/",
     "height": 1000
    },
    "id": "IMZE3Lq0lfYP",
    "outputId": "37820ee5-b98b-418d-98fc-81ac0814b336"
   },
   "outputs": [
    {
     "data": {
      "image/png": "[encoded data removed]",
      "text/plain": [
       "<Figure size 1080x576 with 1 Axes>"
      ]
     },
     "metadata": {},
     "output_type": "display_data"
    },
    {
     "data": {
      "image/png": "[encoded data removed]",
      "text/plain": [
       "<Figure size 1080x576 with 1 Axes>"
      ]
     },
     "metadata": {},
     "output_type": "display_data"
    }
   ],
   "source": [
    "plt.plot(EfficientNet_progess_1.history['accuracy'])\n",
    "plt.plot(EfficientNet_progess_1.history['val_accuracy'])\n",
    "plt.title('model accuracy')\n",
    "plt.ylabel('accuracy')\n",
    "plt.xlabel('epoch')\n",
    "plt.legend(['train', 'test'], loc='upper left')\n",
    "plt.show()\n",
    "# summarize history for loss\n",
    "plt.plot(EfficientNet_progess_1.history['loss'])\n",
    "plt.plot(EfficientNet_progess_1.history['val_loss'])\n",
    "plt.title('model loss')\n",
    "plt.ylabel('loss')\n",
    "plt.xlabel('epoch')\n",
    "plt.legend(['train', 'test'], loc='upper left')\n",
    "plt.show()"
   ]
  },
  {
   "cell_type": "code",
   "execution_count": null,
   "metadata": {
    "colab": {
     "base_uri": "https://localhost:8080/"
    },
    "id": "F84atl_clfQJ",
    "outputId": "9c45bcfc-22f2-4ec1-a3ed-2e24015ba7f5"
   },
   "outputs": [
    {
     "name": "stdout",
     "output_type": "stream",
     "text": [
      "5/5 [==============================] - 8s 324ms/step\n"
     ]
    }
   ],
   "source": [
    "Y_pred = model_eff.predict(X_test)\n",
    "y_pred = np.argmax(Y_pred, axis=1)"
   ]
  },
  {
   "cell_type": "code",
   "execution_count": null,
   "metadata": {
    "colab": {
     "base_uri": "https://localhost:8080/",
     "height": 554
    },
    "id": "5O5bOF7ilfNo",
    "outputId": "6f4dd8e1-1637-44b2-8bcf-f5ec8fd60c83"
   },
   "outputs": [
    {
     "name": "stdout",
     "output_type": "stream",
     "text": [
      "[[33  6  0]\n",
      " [13 75  5]\n",
      " [ 5  2 17]]\n"
     ]
    },
    {
     "data": {
      "text/plain": [
       "<matplotlib.axes._subplots.AxesSubplot at 0x7f50b7a69520>"
      ]
     },
     "execution_count": 90,
     "metadata": {},
     "output_type": "execute_result"
    },
    {
     "data": {
      "image/png": "[encoded data removed]",
      "text/plain": [
       "<Figure size 1080x576 with 2 Axes>"
      ]
     },
     "metadata": {},
     "output_type": "display_data"
    }
   ],
   "source": [
    "cf_matrix = confusion_matrix(y_test, y_pred)\n",
    "print(cf_matrix)\n",
    "\n",
    "import seaborn as sns\n",
    "sns.set(rc = {'figure.figsize':(15,8)})\n",
    "sns.heatmap(cf_matrix, annot=True)"
   ]
  },
  {
   "cell_type": "code",
   "execution_count": null,
   "metadata": {
    "id": "qvk6ynumlfLO"
   },
   "outputs": [],
   "source": []
  },
  {
   "cell_type": "code",
   "execution_count": null,
   "metadata": {
    "id": "OSOqPbT9h_tg"
   },
   "outputs": [],
   "source": [
    "accuracy_list1 = [0.7885, 0.7949, 0.6090, 0.8141]"
   ]
  },
  {
   "cell_type": "code",
   "execution_count": null,
   "metadata": {
    "id": "PRx0dhAWh_th"
   },
   "outputs": [],
   "source": [
    "accuracy_list1"
   ]
  },
  {
   "cell_type": "code",
   "execution_count": null,
   "metadata": {
    "id": "B8VggvQUh_th"
   },
   "outputs": [],
   "source": [
    "raw_data = {\"Algorithms\":['VGG 16','InceptionV3','Resnet50','EfficientNet'],\n",
    "            \"Accuracy_Score\":accuracy_list1}"
   ]
  },
  {
   "cell_type": "code",
   "execution_count": null,
   "metadata": {
    "id": "DPzh2FlGh_th"
   },
   "outputs": [],
   "source": [
    "import seaborn as sns\n",
    "\n",
    "ax=sns.barplot(x=\"Algorithms\", y=\"Accuracy_Score\", data=raw_data)\n",
    "# ax.bar_label(ax.containers[0])"
   ]
  },
  {
   "cell_type": "code",
   "execution_count": null,
   "metadata": {
    "id": "mhss2uU6h_tj"
   },
   "outputs": [],
   "source": []
  },
  {
   "cell_type": "code",
   "execution_count": null,
   "metadata": {
    "id": "HeGMNxeDchQ8"
   },
   "outputs": [],
   "source": [
    "import tensorflow\n",
    "from tensorflow.keras.preprocessing import image\n",
    "from tensorflow.keras.models import load_model\n",
    "model = load_model(\"VGG_breast_cancer.hp5\")\n",
    "image_size = 224\n",
    "# for file in onlyfiles:\n",
    "predict_dir_path = \"/content/gdrive/MyDrive/Projects/Breast_cancer/Dataset/malignant/malignant (101).png\"\n",
    "img = image.load_img(predict_dir_path,target_size=(image_size, image_size))\n",
    "x = image.img_to_array(img)\n",
    "# print(\"printing X#######\")\n",
    "# print(x)\n",
    "# x = x/255\n",
    "# x = np.expand_dims(x, axis=0)\n",
    "\n",
    "img_4d=x.reshape(1,224,224,3)\n",
    "\n",
    "# images = np.vstack([x])\n",
    "\n",
    "predictions = model.predict(img_4d)\n",
    "print(predictions[0])\n",
    "new_pred=np.argmax(predictions[0])\n",
    "print(\"printing classes\")\n",
    "print(new_pred)\n",
    "\n",
    "print(\"predicted image name\")\n",
    "print(str(classses[new_pred]))\n",
    "op = str(classses[new_pred])"
   ]
  },
  {
   "cell_type": "code",
   "execution_count": null,
   "metadata": {
    "id": "MSDa7Ji6dzKG"
   },
   "outputs": [],
   "source": [
    "!zip -r '/content/VGG_breast_cancer.zip' '/content/VGG_breast_cancer.hp5'"
   ]
  },
  {
   "cell_type": "code",
   "execution_count": null,
   "metadata": {
    "id": "TeA-ddZreIPH"
   },
   "outputs": [],
   "source": []
  }
 ],
 "metadata": {
  "accelerator": "GPU",
  "colab": {
   "provenance": []
  },
  "gpuClass": "standard",
  "kernelspec": {
   "display_name": "Python 3 (ipykernel)",
   "language": "python",
   "name": "python3"
  },
  "language_info": {
   "codemirror_mode": {
    "name": "ipython",
    "version": 3
   },
   "file_extension": ".py",
   "mimetype": "text/x-python",
   "name": "python",
   "nbconvert_exporter": "python",
   "pygments_lexer": "ipython3",
   "version": "3.8.13"
  }
 },
 "nbformat": 4,
 "nbformat_minor": 1
}
