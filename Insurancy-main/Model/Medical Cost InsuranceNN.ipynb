{
 "cells": [
  {
   "cell_type": "code",
   "execution_count": 183,
   "metadata": {},
   "outputs": [
    {
     "data": {
      "text/plain": [
       "'1.2.2'"
      ]
     },
     "execution_count": 183,
     "metadata": {},
     "output_type": "execute_result"
    }
   ],
   "source": [
    "import sklearn\n",
    "sklearn.__version__"
   ]
  },
  {
   "cell_type": "code",
   "execution_count": 184,
   "metadata": {},
   "outputs": [],
   "source": [
    "import numpy as np\n",
    "import pandas as pd\n",
    "import matplotlib.pyplot as plt\n",
    "import seaborn as sns\n",
    "\n",
    "%matplotlib inline"
   ]
  },
  {
   "cell_type": "code",
   "execution_count": 185,
   "metadata": {},
   "outputs": [
    {
     "data": {
      "text/html": [
       "<div>\n",
       "<style scoped>\n",
       "    .dataframe tbody tr th:only-of-type {\n",
       "        vertical-align: middle;\n",
       "    }\n",
       "\n",
       "    .dataframe tbody tr th {\n",
       "        vertical-align: top;\n",
       "    }\n",
       "\n",
       "    .dataframe thead th {\n",
       "        text-align: right;\n",
       "    }\n",
       "</style>\n",
       "<table border=\"1\" class=\"dataframe\">\n",
       "  <thead>\n",
       "    <tr style=\"text-align: right;\">\n",
       "      <th></th>\n",
       "      <th>age</th>\n",
       "      <th>sex</th>\n",
       "      <th>bmi</th>\n",
       "      <th>children</th>\n",
       "      <th>smoker</th>\n",
       "      <th>region</th>\n",
       "      <th>charges</th>\n",
       "    </tr>\n",
       "  </thead>\n",
       "  <tbody>\n",
       "    <tr>\n",
       "      <th>0</th>\n",
       "      <td>19</td>\n",
       "      <td>female</td>\n",
       "      <td>27.900</td>\n",
       "      <td>0</td>\n",
       "      <td>yes</td>\n",
       "      <td>southwest</td>\n",
       "      <td>16884.92400</td>\n",
       "    </tr>\n",
       "    <tr>\n",
       "      <th>1</th>\n",
       "      <td>18</td>\n",
       "      <td>male</td>\n",
       "      <td>33.770</td>\n",
       "      <td>1</td>\n",
       "      <td>no</td>\n",
       "      <td>southeast</td>\n",
       "      <td>1725.55230</td>\n",
       "    </tr>\n",
       "    <tr>\n",
       "      <th>2</th>\n",
       "      <td>28</td>\n",
       "      <td>male</td>\n",
       "      <td>33.000</td>\n",
       "      <td>3</td>\n",
       "      <td>no</td>\n",
       "      <td>southeast</td>\n",
       "      <td>4449.46200</td>\n",
       "    </tr>\n",
       "    <tr>\n",
       "      <th>3</th>\n",
       "      <td>33</td>\n",
       "      <td>male</td>\n",
       "      <td>22.705</td>\n",
       "      <td>0</td>\n",
       "      <td>no</td>\n",
       "      <td>northwest</td>\n",
       "      <td>21984.47061</td>\n",
       "    </tr>\n",
       "    <tr>\n",
       "      <th>4</th>\n",
       "      <td>32</td>\n",
       "      <td>male</td>\n",
       "      <td>28.880</td>\n",
       "      <td>0</td>\n",
       "      <td>no</td>\n",
       "      <td>northwest</td>\n",
       "      <td>3866.85520</td>\n",
       "    </tr>\n",
       "  </tbody>\n",
       "</table>\n",
       "</div>"
      ],
      "text/plain": [
       "   age     sex     bmi  children smoker     region      charges\n",
       "0   19  female  27.900         0    yes  southwest  16884.92400\n",
       "1   18    male  33.770         1     no  southeast   1725.55230\n",
       "2   28    male  33.000         3     no  southeast   4449.46200\n",
       "3   33    male  22.705         0     no  northwest  21984.47061\n",
       "4   32    male  28.880         0     no  northwest   3866.85520"
      ]
     },
     "execution_count": 185,
     "metadata": {},
     "output_type": "execute_result"
    }
   ],
   "source": [
    "data = pd.read_csv('./insurance.csv')\n",
    "data.head()"
   ]
  },
  {
   "cell_type": "code",
   "execution_count": 186,
   "metadata": {},
   "outputs": [
    {
     "name": "stdout",
     "output_type": "stream",
     "text": [
      "<class 'pandas.core.frame.DataFrame'>\n",
      "RangeIndex: 1338 entries, 0 to 1337\n",
      "Data columns (total 7 columns):\n",
      " #   Column    Non-Null Count  Dtype  \n",
      "---  ------    --------------  -----  \n",
      " 0   age       1338 non-null   int64  \n",
      " 1   sex       1338 non-null   object \n",
      " 2   bmi       1338 non-null   float64\n",
      " 3   children  1338 non-null   int64  \n",
      " 4   smoker    1338 non-null   object \n",
      " 5   region    1338 non-null   object \n",
      " 6   charges   1338 non-null   float64\n",
      "dtypes: float64(2), int64(2), object(3)\n",
      "memory usage: 73.3+ KB\n"
     ]
    }
   ],
   "source": [
    "data.info()"
   ]
  },
  {
   "cell_type": "markdown",
   "metadata": {},
   "source": [
    "### There are no missing values as such"
   ]
  },
  {
   "cell_type": "code",
   "execution_count": 187,
   "metadata": {},
   "outputs": [
    {
     "data": {
      "text/plain": [
       "region\n",
       "northeast    324\n",
       "southwest    325\n",
       "northwest    325\n",
       "southeast    364\n",
       "Name: count, dtype: int64"
      ]
     },
     "execution_count": 187,
     "metadata": {},
     "output_type": "execute_result"
    }
   ],
   "source": [
    "data['region'].value_counts().sort_values()"
   ]
  },
  {
   "cell_type": "code",
   "execution_count": 188,
   "metadata": {},
   "outputs": [
    {
     "data": {
      "text/plain": [
       "children\n",
       "5     18\n",
       "4     25\n",
       "3    157\n",
       "2    240\n",
       "1    324\n",
       "0    574\n",
       "Name: count, dtype: int64"
      ]
     },
     "execution_count": 188,
     "metadata": {},
     "output_type": "execute_result"
    }
   ],
   "source": [
    "data['children'].value_counts().sort_values()"
   ]
  },
  {
   "cell_type": "markdown",
   "metadata": {},
   "source": [
    "### Converting Categorical Features to Numerical"
   ]
  },
  {
   "cell_type": "code",
   "execution_count": 189,
   "metadata": {},
   "outputs": [],
   "source": [
    "clean_data = {'sex': {'male' : 0 , 'female' : 1} ,\n",
    "                 'smoker': {'no': 0 , 'yes' : 1},\n",
    "                   'region' : {'northwest':0, 'northeast':1,'southeast':2,'southwest':3}\n",
    "               }\n",
    "data_copy = data.copy()\n",
    "data_copy.replace(clean_data, inplace=True)"
   ]
  },
  {
   "cell_type": "code",
   "execution_count": 190,
   "metadata": {},
   "outputs": [
    {
     "data": {
      "text/html": [
       "<div>\n",
       "<style scoped>\n",
       "    .dataframe tbody tr th:only-of-type {\n",
       "        vertical-align: middle;\n",
       "    }\n",
       "\n",
       "    .dataframe tbody tr th {\n",
       "        vertical-align: top;\n",
       "    }\n",
       "\n",
       "    .dataframe thead th {\n",
       "        text-align: right;\n",
       "    }\n",
       "</style>\n",
       "<table border=\"1\" class=\"dataframe\">\n",
       "  <thead>\n",
       "    <tr style=\"text-align: right;\">\n",
       "      <th></th>\n",
       "      <th>age</th>\n",
       "      <th>sex</th>\n",
       "      <th>bmi</th>\n",
       "      <th>children</th>\n",
       "      <th>smoker</th>\n",
       "      <th>region</th>\n",
       "      <th>charges</th>\n",
       "    </tr>\n",
       "  </thead>\n",
       "  <tbody>\n",
       "    <tr>\n",
       "      <th>count</th>\n",
       "      <td>1338.000000</td>\n",
       "      <td>1338.000000</td>\n",
       "      <td>1338.000000</td>\n",
       "      <td>1338.000000</td>\n",
       "      <td>1338.000000</td>\n",
       "      <td>1338.000000</td>\n",
       "      <td>1338.000000</td>\n",
       "    </tr>\n",
       "    <tr>\n",
       "      <th>mean</th>\n",
       "      <td>39.207025</td>\n",
       "      <td>0.494768</td>\n",
       "      <td>30.663397</td>\n",
       "      <td>1.094918</td>\n",
       "      <td>0.204783</td>\n",
       "      <td>1.514948</td>\n",
       "      <td>13270.422265</td>\n",
       "    </tr>\n",
       "    <tr>\n",
       "      <th>std</th>\n",
       "      <td>14.049960</td>\n",
       "      <td>0.500160</td>\n",
       "      <td>6.098187</td>\n",
       "      <td>1.205493</td>\n",
       "      <td>0.403694</td>\n",
       "      <td>1.105572</td>\n",
       "      <td>12110.011237</td>\n",
       "    </tr>\n",
       "    <tr>\n",
       "      <th>min</th>\n",
       "      <td>18.000000</td>\n",
       "      <td>0.000000</td>\n",
       "      <td>15.960000</td>\n",
       "      <td>0.000000</td>\n",
       "      <td>0.000000</td>\n",
       "      <td>0.000000</td>\n",
       "      <td>1121.873900</td>\n",
       "    </tr>\n",
       "    <tr>\n",
       "      <th>25%</th>\n",
       "      <td>27.000000</td>\n",
       "      <td>0.000000</td>\n",
       "      <td>26.296250</td>\n",
       "      <td>0.000000</td>\n",
       "      <td>0.000000</td>\n",
       "      <td>1.000000</td>\n",
       "      <td>4740.287150</td>\n",
       "    </tr>\n",
       "    <tr>\n",
       "      <th>50%</th>\n",
       "      <td>39.000000</td>\n",
       "      <td>0.000000</td>\n",
       "      <td>30.400000</td>\n",
       "      <td>1.000000</td>\n",
       "      <td>0.000000</td>\n",
       "      <td>2.000000</td>\n",
       "      <td>9382.033000</td>\n",
       "    </tr>\n",
       "    <tr>\n",
       "      <th>75%</th>\n",
       "      <td>51.000000</td>\n",
       "      <td>1.000000</td>\n",
       "      <td>34.693750</td>\n",
       "      <td>2.000000</td>\n",
       "      <td>0.000000</td>\n",
       "      <td>2.000000</td>\n",
       "      <td>16639.912515</td>\n",
       "    </tr>\n",
       "    <tr>\n",
       "      <th>max</th>\n",
       "      <td>64.000000</td>\n",
       "      <td>1.000000</td>\n",
       "      <td>53.130000</td>\n",
       "      <td>5.000000</td>\n",
       "      <td>1.000000</td>\n",
       "      <td>3.000000</td>\n",
       "      <td>63770.428010</td>\n",
       "    </tr>\n",
       "  </tbody>\n",
       "</table>\n",
       "</div>"
      ],
      "text/plain": [
       "               age          sex          bmi     children       smoker  \\\n",
       "count  1338.000000  1338.000000  1338.000000  1338.000000  1338.000000   \n",
       "mean     39.207025     0.494768    30.663397     1.094918     0.204783   \n",
       "std      14.049960     0.500160     6.098187     1.205493     0.403694   \n",
       "min      18.000000     0.000000    15.960000     0.000000     0.000000   \n",
       "25%      27.000000     0.000000    26.296250     0.000000     0.000000   \n",
       "50%      39.000000     0.000000    30.400000     1.000000     0.000000   \n",
       "75%      51.000000     1.000000    34.693750     2.000000     0.000000   \n",
       "max      64.000000     1.000000    53.130000     5.000000     1.000000   \n",
       "\n",
       "            region       charges  \n",
       "count  1338.000000   1338.000000  \n",
       "mean      1.514948  13270.422265  \n",
       "std       1.105572  12110.011237  \n",
       "min       0.000000   1121.873900  \n",
       "25%       1.000000   4740.287150  \n",
       "50%       2.000000   9382.033000  \n",
       "75%       2.000000  16639.912515  \n",
       "max       3.000000  63770.428010  "
      ]
     },
     "execution_count": 190,
     "metadata": {},
     "output_type": "execute_result"
    }
   ],
   "source": [
    "data_copy.describe()"
   ]
  },
  {
   "cell_type": "code",
   "execution_count": 191,
   "metadata": {},
   "outputs": [
    {
     "data": {
      "image/png": "[encoded data removed]",
      "text/plain": [
       "<Figure size 1000x800 with 2 Axes>"
      ]
     },
     "metadata": {},
     "output_type": "display_data"
    }
   ],
   "source": [
    "corr = data_copy.corr()\n",
    "fig, ax = plt.subplots(figsize=(10,8))\n",
    "sns.heatmap(corr,cmap='BuPu',annot=True,fmt=\".2f\",ax=ax)\n",
    "plt.title(\"Dependencies of Medical Charges\")\n",
    "\n",
    "plt.show()"
   ]
  },
  {
   "cell_type": "markdown",
   "metadata": {},
   "source": [
    "### Smoker, BMI and Age are most important factor that determnines - Charges\n",
    "Also we see that Sex, Children and Region do not affect the Charges.\n",
    "We might drop these 3 columns as they have less correlation"
   ]
  },
  {
   "cell_type": "code",
   "execution_count": 192,
   "metadata": {},
   "outputs": [
    {
     "name": "stdout",
     "output_type": "stream",
     "text": [
      "sex\n",
      "female    662\n",
      "male      676\n",
      "Name: count, dtype: int64\n",
      "smoker\n",
      "yes     274\n",
      "no     1064\n",
      "Name: count, dtype: int64\n",
      "region\n",
      "northeast    324\n",
      "southwest    325\n",
      "northwest    325\n",
      "southeast    364\n",
      "Name: count, dtype: int64\n"
     ]
    }
   ],
   "source": [
    "print(data['sex'].value_counts().sort_values()) \n",
    "print(data['smoker'].value_counts().sort_values())\n",
    "print(data['region'].value_counts().sort_values())"
   ]
  },
  {
   "cell_type": "markdown",
   "metadata": {},
   "source": [
    "### Prepating data - We can scale BMI and Charges Column before proceeding with Prediction"
   ]
  },
  {
   "cell_type": "code",
   "execution_count": 193,
   "metadata": {},
   "outputs": [],
   "source": [
    "from sklearn.preprocessing import StandardScaler\n",
    "data_pre = data_copy.copy()\n",
    "\n",
    "tempBmi = data_pre.bmi\n",
    "tempBmi = tempBmi.values.reshape(-1,1)\n",
    "data_pre['bmi'] = StandardScaler().fit_transform(tempBmi)\n",
    "\n",
    "tempAge = data_pre.age\n",
    "tempAge = tempAge.values.reshape(-1,1)\n",
    "data_pre['age'] = StandardScaler().fit_transform(tempAge)\n",
    "\n",
    "# tempCharges = data_pre.charges\n",
    "# tempCharges = tempCharges.values.reshape(-1,1)\n",
    "# data_pre['charges'] = StandardScaler().fit_transform(tempCharges)\n",
    "\n",
    "data_pre.head()\n",
    "data_pre.to_csv('new.csv', index=False)"
   ]
  },
  {
   "cell_type": "code",
   "execution_count": 194,
   "metadata": {},
   "outputs": [
    {
     "name": "stdout",
     "output_type": "stream",
     "text": [
      "Size of X_train :  (1070, 5)\n",
      "Size of y_train :  (1070, 1)\n",
      "Size of X_test :  (268, 5)\n",
      "Size of Y_test :  (268, 1)\n"
     ]
    }
   ],
   "source": [
    "# X = data_pre.drop('charges',axis=1).values\n",
    "X = data_pre.drop(['charges', 'region'], axis=1).values\n",
    "y = data_pre['charges'].values.reshape(-1,1)\n",
    "\n",
    "from sklearn.model_selection import train_test_split\n",
    "X_train, X_test, y_train, y_test = train_test_split(X,y,test_size=0.2, random_state=42)\n",
    "\n",
    "print('Size of X_train : ', X_train.shape)\n",
    "print('Size of y_train : ', y_train.shape)\n",
    "print('Size of X_test : ', X_test.shape)\n",
    "print('Size of Y_test : ', y_test.shape)"
   ]
  },
  {
   "cell_type": "code",
   "execution_count": 195,
   "metadata": {},
   "outputs": [
    {
     "data": {
      "text/plain": [
       "array([ 0.48366788,  1.        , -1.75747362,  2.        ,  0.        ])"
      ]
     },
     "execution_count": 195,
     "metadata": {},
     "output_type": "execute_result"
    }
   ],
   "source": [
    "X_train[0]"
   ]
  },
  {
   "cell_type": "code",
   "execution_count": 196,
   "metadata": {},
   "outputs": [],
   "source": [
    "import tensorflow as tf"
   ]
  },
  {
   "cell_type": "code",
   "execution_count": 197,
   "metadata": {},
   "outputs": [],
   "source": [
    "model = tf.keras.Sequential([\n",
    "    tf.keras.layers.Dense(64, activation='relu', input_shape=(X_train.shape[1],)),\n",
    "    tf.keras.layers.Dense(64, activation='relu'),\n",
    "    tf.keras.layers.Dense(1)  # Output layer (1 neuron for regression)\n",
    "])\n",
    "\n",
    "# Compile the model\n",
    "model.compile(optimizer='adam', loss='mean_squared_error', metrics=['mae'])"
   ]
  },
  {
   "cell_type": "markdown",
   "metadata": {},
   "source": [
    "#For a regression model like the one you've defined, you typically evaluate its performance using regression metrics such as Mean Absolute Error (MAE), Mean Squared Error (MSE), Root Mean Squared Error (RMSE), etc. Accuracy is not applicable for regression tasks since it's a metric used for classification tasks where predictions are categorical."
   ]
  },
  {
   "cell_type": "code",
   "execution_count": 198,
   "metadata": {},
   "outputs": [
    {
     "name": "stdout",
     "output_type": "stream",
     "text": [
      "Epoch 1/50\n",
      "27/27 [==============================] - 0s 4ms/step - loss: 325444096.0000 - mae: 13517.7559 - val_loss: 310308608.0000 - val_mae: 12653.4561\n",
      "Epoch 2/50\n",
      "27/27 [==============================] - 0s 1ms/step - loss: 325354240.0000 - mae: 13514.6982 - val_loss: 310176896.0000 - val_mae: 12648.8408\n",
      "Epoch 3/50\n",
      "27/27 [==============================] - 0s 1ms/step - loss: 325137216.0000 - mae: 13507.5049 - val_loss: 309867744.0000 - val_mae: 12638.2725\n",
      "Epoch 4/50\n",
      "27/27 [==============================] - 0s 1ms/step - loss: 324660512.0000 - mae: 13491.5771 - val_loss: 309213120.0000 - val_mae: 12616.3994\n",
      "Epoch 5/50\n",
      "27/27 [==============================] - 0s 2ms/step - loss: 323720416.0000 - mae: 13461.2939 - val_loss: 308013568.0000 - val_mae: 12576.9941\n",
      "Epoch 6/50\n",
      "27/27 [==============================] - 0s 1ms/step - loss: 322095552.0000 - mae: 13407.8730 - val_loss: 306020704.0000 - val_mae: 12512.1055\n",
      "Epoch 7/50\n",
      "27/27 [==============================] - 0s 1ms/step - loss: 319509696.0000 - mae: 13324.2520 - val_loss: 302986048.0000 - val_mae: 12413.8262\n",
      "Epoch 8/50\n",
      "27/27 [==============================] - 0s 1ms/step - loss: 315755040.0000 - mae: 13202.3711 - val_loss: 298691296.0000 - val_mae: 12274.6240\n",
      "Epoch 9/50\n",
      "27/27 [==============================] - 0s 1ms/step - loss: 310580256.0000 - mae: 13036.2783 - val_loss: 293189664.0000 - val_mae: 12094.5703\n",
      "Epoch 10/50\n",
      "27/27 [==============================] - 0s 1ms/step - loss: 304079744.0000 - mae: 12819.6797 - val_loss: 286142784.0000 - val_mae: 11860.0957\n",
      "Epoch 11/50\n",
      "27/27 [==============================] - 0s 1ms/step - loss: 295904096.0000 - mae: 12550.7363 - val_loss: 277786368.0000 - val_mae: 11577.0938\n",
      "Epoch 12/50\n",
      "27/27 [==============================] - 0s 1ms/step - loss: 286447616.0000 - mae: 12216.8594 - val_loss: 267782320.0000 - val_mae: 11229.8574\n",
      "Epoch 13/50\n",
      "27/27 [==============================] - 0s 1ms/step - loss: 275287456.0000 - mae: 11831.1348 - val_loss: 256787504.0000 - val_mae: 10832.5195\n",
      "Epoch 14/50\n",
      "27/27 [==============================] - 0s 1ms/step - loss: 263204496.0000 - mae: 11378.5020 - val_loss: 244346512.0000 - val_mae: 10375.6328\n",
      "Epoch 15/50\n",
      "27/27 [==============================] - 0s 1ms/step - loss: 249817552.0000 - mae: 10876.7422 - val_loss: 231351280.0000 - val_mae: 9900.6475\n",
      "Epoch 16/50\n",
      "27/27 [==============================] - 0s 1ms/step - loss: 235848736.0000 - mae: 10315.6426 - val_loss: 217444048.0000 - val_mae: 9418.0850\n",
      "Epoch 17/50\n",
      "27/27 [==============================] - 0s 1ms/step - loss: 221180464.0000 - mae: 9754.5322 - val_loss: 203814112.0000 - val_mae: 8987.8887\n",
      "Epoch 18/50\n",
      "27/27 [==============================] - 0s 1ms/step - loss: 206855728.0000 - mae: 9213.5967 - val_loss: 189997168.0000 - val_mae: 8571.9600\n",
      "Epoch 19/50\n",
      "27/27 [==============================] - 0s 1ms/step - loss: 192832496.0000 - mae: 8731.0645 - val_loss: 176952576.0000 - val_mae: 8205.4277\n",
      "Epoch 20/50\n",
      "27/27 [==============================] - 0s 1ms/step - loss: 179724976.0000 - mae: 8318.1572 - val_loss: 164849280.0000 - val_mae: 7904.4141\n",
      "Epoch 21/50\n",
      "27/27 [==============================] - 0s 1ms/step - loss: 167617872.0000 - mae: 7980.2466 - val_loss: 154257520.0000 - val_mae: 7703.9111\n",
      "Epoch 22/50\n",
      "27/27 [==============================] - 0s 1ms/step - loss: 157219840.0000 - mae: 7775.6689 - val_loss: 144800048.0000 - val_mae: 7551.1943\n",
      "Epoch 23/50\n",
      "27/27 [==============================] - 0s 2ms/step - loss: 148172304.0000 - mae: 7679.1616 - val_loss: 137193264.0000 - val_mae: 7450.4453\n",
      "Epoch 24/50\n",
      "27/27 [==============================] - 0s 2ms/step - loss: 141012400.0000 - mae: 7628.1133 - val_loss: 130740432.0000 - val_mae: 7377.7314\n",
      "Epoch 25/50\n",
      "27/27 [==============================] - 0s 2ms/step - loss: 135023312.0000 - mae: 7606.5513 - val_loss: 125786880.0000 - val_mae: 7319.4531\n",
      "Epoch 26/50\n",
      "27/27 [==============================] - 0s 1ms/step - loss: 130320680.0000 - mae: 7605.2500 - val_loss: 121859104.0000 - val_mae: 7290.9951\n",
      "Epoch 27/50\n",
      "27/27 [==============================] - 0s 1ms/step - loss: 126608280.0000 - mae: 7605.4800 - val_loss: 118643960.0000 - val_mae: 7286.0327\n",
      "Epoch 28/50\n",
      "27/27 [==============================] - 0s 1ms/step - loss: 123506096.0000 - mae: 7598.6318 - val_loss: 115955960.0000 - val_mae: 7283.8936\n",
      "Epoch 29/50\n",
      "27/27 [==============================] - 0s 1ms/step - loss: 120928928.0000 - mae: 7597.4365 - val_loss: 113569632.0000 - val_mae: 7277.0381\n",
      "Epoch 30/50\n",
      "27/27 [==============================] - 0s 1ms/step - loss: 118646208.0000 - mae: 7586.9912 - val_loss: 111393248.0000 - val_mae: 7256.3691\n",
      "Epoch 31/50\n",
      "27/27 [==============================] - 0s 2ms/step - loss: 116489952.0000 - mae: 7566.8491 - val_loss: 109560824.0000 - val_mae: 7231.8364\n",
      "Epoch 32/50\n",
      "27/27 [==============================] - 0s 1ms/step - loss: 114554536.0000 - mae: 7547.7759 - val_loss: 107626800.0000 - val_mae: 7198.2241\n",
      "Epoch 33/50\n",
      "27/27 [==============================] - 0s 1ms/step - loss: 112605496.0000 - mae: 7512.2856 - val_loss: 105904896.0000 - val_mae: 7165.8779\n",
      "Epoch 34/50\n",
      "27/27 [==============================] - 0s 1ms/step - loss: 110771584.0000 - mae: 7493.8491 - val_loss: 104064848.0000 - val_mae: 7136.3960\n",
      "Epoch 35/50\n",
      "27/27 [==============================] - 0s 1ms/step - loss: 108915536.0000 - mae: 7453.8442 - val_loss: 102328240.0000 - val_mae: 7087.4521\n",
      "Epoch 36/50\n",
      "27/27 [==============================] - 0s 1ms/step - loss: 107099784.0000 - mae: 7403.7520 - val_loss: 100578344.0000 - val_mae: 7036.4077\n",
      "Epoch 37/50\n",
      "27/27 [==============================] - 0s 2ms/step - loss: 105264424.0000 - mae: 7355.7681 - val_loss: 98925928.0000 - val_mae: 6989.3691\n",
      "Epoch 38/50\n",
      "27/27 [==============================] - 0s 1ms/step - loss: 103490648.0000 - mae: 7299.9766 - val_loss: 97147448.0000 - val_mae: 6942.2163\n",
      "Epoch 39/50\n",
      "27/27 [==============================] - 0s 1ms/step - loss: 101664424.0000 - mae: 7272.3779 - val_loss: 95396464.0000 - val_mae: 6899.2739\n",
      "Epoch 40/50\n",
      "27/27 [==============================] - 0s 1ms/step - loss: 99830728.0000 - mae: 7218.6221 - val_loss: 93689568.0000 - val_mae: 6833.3120\n",
      "Epoch 41/50\n",
      "27/27 [==============================] - 0s 1ms/step - loss: 98046616.0000 - mae: 7160.8232 - val_loss: 91961344.0000 - val_mae: 6766.6104\n",
      "Epoch 42/50\n",
      "27/27 [==============================] - 0s 1ms/step - loss: 96243768.0000 - mae: 7088.3013 - val_loss: 90341320.0000 - val_mae: 6702.7026\n",
      "Epoch 43/50\n",
      "27/27 [==============================] - 0s 1ms/step - loss: 94460112.0000 - mae: 7045.3906 - val_loss: 88577992.0000 - val_mae: 6657.5649\n",
      "Epoch 44/50\n",
      "27/27 [==============================] - 0s 2ms/step - loss: 92662632.0000 - mae: 6999.3931 - val_loss: 86929520.0000 - val_mae: 6599.7036\n",
      "Epoch 45/50\n",
      "27/27 [==============================] - 0s 1ms/step - loss: 90897712.0000 - mae: 6934.7222 - val_loss: 85292080.0000 - val_mae: 6533.1152\n",
      "Epoch 46/50\n",
      "27/27 [==============================] - 0s 1ms/step - loss: 89089408.0000 - mae: 6870.5635 - val_loss: 83700736.0000 - val_mae: 6477.9438\n",
      "Epoch 47/50\n",
      "27/27 [==============================] - 0s 1ms/step - loss: 87345168.0000 - mae: 6802.6538 - val_loss: 82059224.0000 - val_mae: 6406.7124\n",
      "Epoch 48/50\n",
      "27/27 [==============================] - 0s 1ms/step - loss: 85581840.0000 - mae: 6745.0376 - val_loss: 80305600.0000 - val_mae: 6349.0825\n",
      "Epoch 49/50\n",
      "27/27 [==============================] - 0s 1ms/step - loss: 83807560.0000 - mae: 6696.3628 - val_loss: 78694776.0000 - val_mae: 6294.1060\n",
      "Epoch 50/50\n",
      "27/27 [==============================] - 0s 1ms/step - loss: 82058544.0000 - mae: 6628.5010 - val_loss: 77037576.0000 - val_mae: 6227.1436\n"
     ]
    }
   ],
   "source": [
    "# Train the model\n",
    "history = model.fit(X_train, y_train, epochs=50, batch_size=32, validation_split=0.2)"
   ]
  },
  {
   "cell_type": "code",
   "execution_count": 199,
   "metadata": {},
   "outputs": [],
   "source": [
    "# Assuming 'model' is your trained model\n",
    "model.save('NN_Model.h5')  # Saves to HDF5 format"
   ]
  },
  {
   "cell_type": "code",
   "execution_count": 200,
   "metadata": {},
   "outputs": [
    {
     "name": "stdout",
     "output_type": "stream",
     "text": [
      "9/9 [==============================] - 0s 640us/step - loss: 79141712.0000 - mae: 6692.5352\n",
      "Test Loss: 79141712.0, Test MAE: 6692.53515625\n",
      "WARNING:tensorflow:7 out of the last 24 calls to <function Model.make_predict_function.<locals>.predict_function at 0x000002B85C8D9A60> triggered tf.function retracing. Tracing is expensive and the excessive number of tracings could be due to (1) creating @tf.function repeatedly in a loop, (2) passing tensors with different shapes, (3) passing Python objects instead of tensors. For (1), please define your @tf.function outside of the loop. For (2), @tf.function has experimental_relax_shapes=True option that relaxes argument shapes that can avoid unnecessary retracing. For (3), please refer to https://www.tensorflow.org/tutorials/customization/performance#python_or_tensor_args and https://www.tensorflow.org/api_docs/python/tf/function for  more details.\n",
      "Test MAE: 6692.535639157373\n"
     ]
    }
   ],
   "source": [
    "import tensorflow as tf\n",
    "from sklearn.metrics import mean_absolute_error\n",
    "\n",
    "# Assuming you have already trained your model and stored it in 'model'\n",
    "\n",
    "# Evaluate the model on the test set\n",
    "loss, mae = model.evaluate(X_test, y_test)\n",
    "print(f\"Test Loss: {loss}, Test MAE: {mae}\")\n",
    "\n",
    "# Make predictions using the model\n",
    "y_pred = model.predict(X_test)\n",
    "\n",
    "# Calculate Mean Absolute Error (MAE)\n",
    "mae = mean_absolute_error(y_test, y_pred)\n",
    "print(f\"Test MAE: {mae}\")\n"
   ]
  },
  {
   "cell_type": "code",
   "execution_count": 201,
   "metadata": {},
   "outputs": [
    {
     "data": {
      "text/plain": [
       "array([[14182.815 ],\n",
       "       [ 9195.89  ],\n",
       "       [23886.602 ],\n",
       "       [13601.536 ],\n",
       "       [11804.926 ],\n",
       "       [12872.715 ],\n",
       "       [ 2922.4917],\n",
       "       [15558.316 ],\n",
       "       [ 3152.57  ],\n",
       "       [15500.956 ]], dtype=float32)"
      ]
     },
     "execution_count": 201,
     "metadata": {},
     "output_type": "execute_result"
    }
   ],
   "source": [
    "# Make predictions\n",
    "predictions = model.predict(X_test)\n",
    "predictions[:10]"
   ]
  },
  {
   "cell_type": "code",
   "execution_count": null,
   "metadata": {},
   "outputs": [],
   "source": []
  },
  {
   "cell_type": "code",
   "execution_count": 202,
   "metadata": {},
   "outputs": [
    {
     "data": {
      "text/plain": [
       "array([[ 9095.06825],\n",
       "       [ 5272.1758 ],\n",
       "       [29330.98315],\n",
       "       [ 9301.89355],\n",
       "       [33750.2918 ],\n",
       "       [ 4536.259  ],\n",
       "       [ 2117.33885],\n",
       "       [14210.53595],\n",
       "       [ 3732.6251 ],\n",
       "       [10264.4421 ]])"
      ]
     },
     "execution_count": 202,
     "metadata": {},
     "output_type": "execute_result"
    }
   ],
   "source": [
    "y_test[:10]"
   ]
  },
  {
   "cell_type": "code",
   "execution_count": 203,
   "metadata": {},
   "outputs": [
    {
     "data": {
      "text/plain": [
       "array([[ 0.41246669,  1.        , -0.90034121,  2.        ,  0.        ]])"
      ]
     },
     "execution_count": 203,
     "metadata": {},
     "output_type": "execute_result"
    }
   ],
   "source": [
    "X_test[:1]"
   ]
  },
  {
   "cell_type": "code",
   "execution_count": 204,
   "metadata": {},
   "outputs": [
    {
     "data": {
      "image/png": "[encoded data removed]",
      "text/plain": [
       "<Figure size 1000x600 with 1 Axes>"
      ]
     },
     "metadata": {},
     "output_type": "display_data"
    }
   ],
   "source": [
    "import matplotlib.pyplot as plt\n",
    "\n",
    "# Get the training loss and validation loss from the history\n",
    "training_loss = history.history['loss']\n",
    "validation_loss = history.history['val_loss']\n",
    "\n",
    "# Get the number of epochs\n",
    "epochs = range(1, len(training_loss) + 1)\n",
    "\n",
    "# Plotting the training and validation loss\n",
    "plt.figure(figsize=(10, 6))\n",
    "plt.plot(epochs, training_loss, 'b', label='Training Loss')\n",
    "plt.plot(epochs, validation_loss, 'r', label='Validation Loss')\n",
    "plt.title('Training and Validation Loss')\n",
    "plt.xlabel('Epochs')\n",
    "plt.ylabel('Loss')\n",
    "plt.legend()\n",
    "plt.show()\n"
   ]
  },
  {
   "cell_type": "code",
   "execution_count": 205,
   "metadata": {},
   "outputs": [
    {
     "data": {
      "image/png": "[encoded data removed]",
      "text/plain": [
       "<Figure size 640x480 with 1 Axes>"
      ]
     },
     "metadata": {},
     "output_type": "display_data"
    }
   ],
   "source": [
    "import matplotlib.pyplot as plt\n",
    "\n",
    "# Get training and validation MAE from the history\n",
    "training_mae = history.history['mae']\n",
    "validation_mae = history.history['val_mae']\n",
    "\n",
    "# Plotting training and validation MAE\n",
    "epochs = range(1, len(training_mae) + 1)\n",
    "plt.plot(epochs, training_mae, 'b', label='Training MAE')\n",
    "plt.plot(epochs, validation_mae, 'r', label='Validation MAE')\n",
    "plt.title('Training and Validation MAE')\n",
    "plt.xlabel('Epochs')\n",
    "plt.ylabel('MAE')\n",
    "plt.legend()\n",
    "plt.show()\n"
   ]
  },
  {
   "cell_type": "code",
   "execution_count": null,
   "metadata": {},
   "outputs": [],
   "source": []
  },
  {
   "cell_type": "code",
   "execution_count": null,
   "metadata": {},
   "outputs": [],
   "source": []
  },
  {
   "cell_type": "markdown",
   "metadata": {},
   "source": [
    "# TESTING DATA"
   ]
  },
  {
   "cell_type": "code",
   "execution_count": 206,
   "metadata": {},
   "outputs": [],
   "source": [
    "model.save('NN_Model.h5')  # Saves to HDF5 format"
   ]
  },
  {
   "cell_type": "code",
   "execution_count": 207,
   "metadata": {},
   "outputs": [],
   "source": [
    "# Load the model from disk\n",
    "loaded_model = tf.keras.models.load_model('NN_Model.h5')\n",
    "\n",
    "# Use the loaded model to make predictions\n",
    "predictions = loaded_model.predict(X_test[:10])"
   ]
  },
  {
   "cell_type": "code",
   "execution_count": 208,
   "metadata": {},
   "outputs": [
    {
     "data": {
      "text/plain": [
       "array([[14182.815 ],\n",
       "       [ 9195.89  ],\n",
       "       [23886.602 ],\n",
       "       [13601.536 ],\n",
       "       [11804.926 ],\n",
       "       [12872.715 ],\n",
       "       [ 2922.4917],\n",
       "       [15558.316 ],\n",
       "       [ 3152.57  ],\n",
       "       [15500.956 ]], dtype=float32)"
      ]
     },
     "execution_count": 208,
     "metadata": {},
     "output_type": "execute_result"
    }
   ],
   "source": [
    "predictions"
   ]
  },
  {
   "cell_type": "code",
   "execution_count": 209,
   "metadata": {},
   "outputs": [],
   "source": [
    "\n",
    "# pred=loaded_model.predict(np.array([20,2,28,1,1]).reshape(1,5))[0][0]\n",
    "# pred"
   ]
  },
  {
   "cell_type": "code",
   "execution_count": 210,
   "metadata": {},
   "outputs": [
    {
     "name": "stdout",
     "output_type": "stream",
     "text": [
      "[[12620.565]]\n"
     ]
    }
   ],
   "source": [
    "import pandas as pd\n",
    "from sklearn.preprocessing import StandardScaler\n",
    "\n",
    "import pandas as pd\n",
    "import numpy as np\n",
    "import tensorflow as tf\n",
    "\n",
    "# Sample data\n",
    "age = int(\"20\")\n",
    "gender = int(\"1\")\n",
    "bmi = float(\"28\")\n",
    "childrence = int(\"1\")\n",
    "smoke = int(\"0\")\n",
    "# region = int(\"2\")\n",
    "\n",
    "# Create DataFrame\n",
    "data = {'age': [age], 'gender': [gender], 'bmi': [bmi], 'childrence': [childrence], 'smoke': [smoke]}\n",
    "df = pd.DataFrame(data)\n",
    "\n",
    "# Initialize scalers\n",
    "scaler_age = StandardScaler()\n",
    "scaler_bmi = StandardScaler()\n",
    "\n",
    "# Scale 'age' and 'bmi' columns\n",
    "df['age'] = scaler_age.fit_transform(df[['age']])\n",
    "df['bmi'] = scaler_bmi.fit_transform(df[['bmi']])\n",
    "\n",
    "# print(df)\n",
    "\n",
    "\n",
    "\n",
    "# Load the trained model\n",
    "loaded_model = tf.keras.models.load_model('NN_Model.h5')\n",
    "\n",
    "# Make predictions\n",
    "pred = loaded_model.predict(df)\n",
    "print(pred)\n"
   ]
  },
  {
   "cell_type": "code",
   "execution_count": null,
   "metadata": {},
   "outputs": [],
   "source": [
    "\n"
   ]
  },
  {
   "cell_type": "code",
   "execution_count": null,
   "metadata": {},
   "outputs": [],
   "source": []
  }
 ],
 "metadata": {
  "kernelspec": {
   "display_name": "Python 3 (ipykernel)",
   "language": "python",
   "name": "python3"
  },
  "language_info": {
   "codemirror_mode": {
    "name": "ipython",
    "version": 3
   },
   "file_extension": ".py",
   "mimetype": "text/x-python",
   "name": "python",
   "nbconvert_exporter": "python",
   "pygments_lexer": "ipython3",
   "version": "3.8.13"
  }
 },
 "nbformat": 4,
 "nbformat_minor": 4
}
