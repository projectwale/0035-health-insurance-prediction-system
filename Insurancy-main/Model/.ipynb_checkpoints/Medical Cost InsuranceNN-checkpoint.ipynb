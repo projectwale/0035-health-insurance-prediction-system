{
 "cells": [
  {
   "cell_type": "code",
   "execution_count": 1,
   "metadata": {},
   "outputs": [
    {
     "name": "stderr",
     "output_type": "stream",
     "text": [
      "C:\\Users\\sushant\\anaconda3\\envs\\project\\lib\\site-packages\\numpy\\_distributor_init.py:30: UserWarning: loaded more than 1 DLL from .libs:\n",
      "C:\\Users\\sushant\\anaconda3\\envs\\project\\lib\\site-packages\\numpy\\.libs\\libopenblas.FB5AE2TYXYH2IJRDKGDGQ3XBKLKTF43H.gfortran-win_amd64.dll\n",
      "C:\\Users\\sushant\\anaconda3\\envs\\project\\lib\\site-packages\\numpy\\.libs\\libopenblas.PYQHXLVVQ7VESDPUVUADXEVJOBGHJPAY.gfortran-win_amd64.dll\n",
      "  warnings.warn(\"loaded more than 1 DLL from .libs:\"\n"
     ]
    },
    {
     "data": {
      "text/plain": [
       "'1.2.2'"
      ]
     },
     "execution_count": 1,
     "metadata": {},
     "output_type": "execute_result"
    }
   ],
   "source": [
    "import sklearn\n",
    "sklearn.__version__"
   ]
  },
  {
   "cell_type": "code",
   "execution_count": 2,
   "metadata": {},
   "outputs": [],
   "source": [
    "import numpy as np\n",
    "import pandas as pd\n",
    "import matplotlib.pyplot as plt\n",
    "import seaborn as sns\n",
    "\n",
    "%matplotlib inline"
   ]
  },
  {
   "cell_type": "code",
   "execution_count": 3,
   "metadata": {},
   "outputs": [
    {
     "data": {
      "text/html": [
       "<div>\n",
       "<style scoped>\n",
       "    .dataframe tbody tr th:only-of-type {\n",
       "        vertical-align: middle;\n",
       "    }\n",
       "\n",
       "    .dataframe tbody tr th {\n",
       "        vertical-align: top;\n",
       "    }\n",
       "\n",
       "    .dataframe thead th {\n",
       "        text-align: right;\n",
       "    }\n",
       "</style>\n",
       "<table border=\"1\" class=\"dataframe\">\n",
       "  <thead>\n",
       "    <tr style=\"text-align: right;\">\n",
       "      <th></th>\n",
       "      <th>age</th>\n",
       "      <th>sex</th>\n",
       "      <th>bmi</th>\n",
       "      <th>children</th>\n",
       "      <th>smoker</th>\n",
       "      <th>region</th>\n",
       "      <th>charges</th>\n",
       "    </tr>\n",
       "  </thead>\n",
       "  <tbody>\n",
       "    <tr>\n",
       "      <th>0</th>\n",
       "      <td>19</td>\n",
       "      <td>female</td>\n",
       "      <td>27.900</td>\n",
       "      <td>0</td>\n",
       "      <td>yes</td>\n",
       "      <td>southwest</td>\n",
       "      <td>16884.92400</td>\n",
       "    </tr>\n",
       "    <tr>\n",
       "      <th>1</th>\n",
       "      <td>18</td>\n",
       "      <td>male</td>\n",
       "      <td>33.770</td>\n",
       "      <td>1</td>\n",
       "      <td>no</td>\n",
       "      <td>southeast</td>\n",
       "      <td>1725.55230</td>\n",
       "    </tr>\n",
       "    <tr>\n",
       "      <th>2</th>\n",
       "      <td>28</td>\n",
       "      <td>male</td>\n",
       "      <td>33.000</td>\n",
       "      <td>3</td>\n",
       "      <td>no</td>\n",
       "      <td>southeast</td>\n",
       "      <td>4449.46200</td>\n",
       "    </tr>\n",
       "    <tr>\n",
       "      <th>3</th>\n",
       "      <td>33</td>\n",
       "      <td>male</td>\n",
       "      <td>22.705</td>\n",
       "      <td>0</td>\n",
       "      <td>no</td>\n",
       "      <td>northwest</td>\n",
       "      <td>21984.47061</td>\n",
       "    </tr>\n",
       "    <tr>\n",
       "      <th>4</th>\n",
       "      <td>32</td>\n",
       "      <td>male</td>\n",
       "      <td>28.880</td>\n",
       "      <td>0</td>\n",
       "      <td>no</td>\n",
       "      <td>northwest</td>\n",
       "      <td>3866.85520</td>\n",
       "    </tr>\n",
       "  </tbody>\n",
       "</table>\n",
       "</div>"
      ],
      "text/plain": [
       "   age     sex     bmi  children smoker     region      charges\n",
       "0   19  female  27.900         0    yes  southwest  16884.92400\n",
       "1   18    male  33.770         1     no  southeast   1725.55230\n",
       "2   28    male  33.000         3     no  southeast   4449.46200\n",
       "3   33    male  22.705         0     no  northwest  21984.47061\n",
       "4   32    male  28.880         0     no  northwest   3866.85520"
      ]
     },
     "execution_count": 3,
     "metadata": {},
     "output_type": "execute_result"
    }
   ],
   "source": [
    "data = pd.read_csv('./insurance.csv')\n",
    "data.head()"
   ]
  },
  {
   "cell_type": "code",
   "execution_count": 4,
   "metadata": {},
   "outputs": [
    {
     "name": "stdout",
     "output_type": "stream",
     "text": [
      "<class 'pandas.core.frame.DataFrame'>\n",
      "RangeIndex: 1338 entries, 0 to 1337\n",
      "Data columns (total 7 columns):\n",
      " #   Column    Non-Null Count  Dtype  \n",
      "---  ------    --------------  -----  \n",
      " 0   age       1338 non-null   int64  \n",
      " 1   sex       1338 non-null   object \n",
      " 2   bmi       1338 non-null   float64\n",
      " 3   children  1338 non-null   int64  \n",
      " 4   smoker    1338 non-null   object \n",
      " 5   region    1338 non-null   object \n",
      " 6   charges   1338 non-null   float64\n",
      "dtypes: float64(2), int64(2), object(3)\n",
      "memory usage: 73.3+ KB\n"
     ]
    }
   ],
   "source": [
    "data.info()"
   ]
  },
  {
   "cell_type": "markdown",
   "metadata": {},
   "source": [
    "### There are no missing values as such"
   ]
  },
  {
   "cell_type": "code",
   "execution_count": 5,
   "metadata": {},
   "outputs": [
    {
     "data": {
      "text/plain": [
       "region\n",
       "northeast    324\n",
       "southwest    325\n",
       "northwest    325\n",
       "southeast    364\n",
       "Name: count, dtype: int64"
      ]
     },
     "execution_count": 5,
     "metadata": {},
     "output_type": "execute_result"
    }
   ],
   "source": [
    "data['region'].value_counts().sort_values()"
   ]
  },
  {
   "cell_type": "code",
   "execution_count": 6,
   "metadata": {},
   "outputs": [
    {
     "data": {
      "text/plain": [
       "children\n",
       "5     18\n",
       "4     25\n",
       "3    157\n",
       "2    240\n",
       "1    324\n",
       "0    574\n",
       "Name: count, dtype: int64"
      ]
     },
     "execution_count": 6,
     "metadata": {},
     "output_type": "execute_result"
    }
   ],
   "source": [
    "data['children'].value_counts().sort_values()"
   ]
  },
  {
   "cell_type": "markdown",
   "metadata": {},
   "source": [
    "### Converting Categorical Features to Numerical"
   ]
  },
  {
   "cell_type": "code",
   "execution_count": 7,
   "metadata": {},
   "outputs": [],
   "source": [
    "clean_data = {'sex': {'male' : 0 , 'female' : 1} ,\n",
    "                 'smoker': {'no': 0 , 'yes' : 1},\n",
    "                   'region' : {'northwest':0, 'northeast':1,'southeast':2,'southwest':3}\n",
    "               }\n",
    "data_copy = data.copy()\n",
    "data_copy.replace(clean_data, inplace=True)"
   ]
  },
  {
   "cell_type": "code",
   "execution_count": 8,
   "metadata": {},
   "outputs": [
    {
     "data": {
      "text/html": [
       "<div>\n",
       "<style scoped>\n",
       "    .dataframe tbody tr th:only-of-type {\n",
       "        vertical-align: middle;\n",
       "    }\n",
       "\n",
       "    .dataframe tbody tr th {\n",
       "        vertical-align: top;\n",
       "    }\n",
       "\n",
       "    .dataframe thead th {\n",
       "        text-align: right;\n",
       "    }\n",
       "</style>\n",
       "<table border=\"1\" class=\"dataframe\">\n",
       "  <thead>\n",
       "    <tr style=\"text-align: right;\">\n",
       "      <th></th>\n",
       "      <th>age</th>\n",
       "      <th>sex</th>\n",
       "      <th>bmi</th>\n",
       "      <th>children</th>\n",
       "      <th>smoker</th>\n",
       "      <th>region</th>\n",
       "      <th>charges</th>\n",
       "    </tr>\n",
       "  </thead>\n",
       "  <tbody>\n",
       "    <tr>\n",
       "      <th>count</th>\n",
       "      <td>1338.000000</td>\n",
       "      <td>1338.000000</td>\n",
       "      <td>1338.000000</td>\n",
       "      <td>1338.000000</td>\n",
       "      <td>1338.000000</td>\n",
       "      <td>1338.000000</td>\n",
       "      <td>1338.000000</td>\n",
       "    </tr>\n",
       "    <tr>\n",
       "      <th>mean</th>\n",
       "      <td>39.207025</td>\n",
       "      <td>0.494768</td>\n",
       "      <td>30.663397</td>\n",
       "      <td>1.094918</td>\n",
       "      <td>0.204783</td>\n",
       "      <td>1.514948</td>\n",
       "      <td>13270.422265</td>\n",
       "    </tr>\n",
       "    <tr>\n",
       "      <th>std</th>\n",
       "      <td>14.049960</td>\n",
       "      <td>0.500160</td>\n",
       "      <td>6.098187</td>\n",
       "      <td>1.205493</td>\n",
       "      <td>0.403694</td>\n",
       "      <td>1.105572</td>\n",
       "      <td>12110.011237</td>\n",
       "    </tr>\n",
       "    <tr>\n",
       "      <th>min</th>\n",
       "      <td>18.000000</td>\n",
       "      <td>0.000000</td>\n",
       "      <td>15.960000</td>\n",
       "      <td>0.000000</td>\n",
       "      <td>0.000000</td>\n",
       "      <td>0.000000</td>\n",
       "      <td>1121.873900</td>\n",
       "    </tr>\n",
       "    <tr>\n",
       "      <th>25%</th>\n",
       "      <td>27.000000</td>\n",
       "      <td>0.000000</td>\n",
       "      <td>26.296250</td>\n",
       "      <td>0.000000</td>\n",
       "      <td>0.000000</td>\n",
       "      <td>1.000000</td>\n",
       "      <td>4740.287150</td>\n",
       "    </tr>\n",
       "    <tr>\n",
       "      <th>50%</th>\n",
       "      <td>39.000000</td>\n",
       "      <td>0.000000</td>\n",
       "      <td>30.400000</td>\n",
       "      <td>1.000000</td>\n",
       "      <td>0.000000</td>\n",
       "      <td>2.000000</td>\n",
       "      <td>9382.033000</td>\n",
       "    </tr>\n",
       "    <tr>\n",
       "      <th>75%</th>\n",
       "      <td>51.000000</td>\n",
       "      <td>1.000000</td>\n",
       "      <td>34.693750</td>\n",
       "      <td>2.000000</td>\n",
       "      <td>0.000000</td>\n",
       "      <td>2.000000</td>\n",
       "      <td>16639.912515</td>\n",
       "    </tr>\n",
       "    <tr>\n",
       "      <th>max</th>\n",
       "      <td>64.000000</td>\n",
       "      <td>1.000000</td>\n",
       "      <td>53.130000</td>\n",
       "      <td>5.000000</td>\n",
       "      <td>1.000000</td>\n",
       "      <td>3.000000</td>\n",
       "      <td>63770.428010</td>\n",
       "    </tr>\n",
       "  </tbody>\n",
       "</table>\n",
       "</div>"
      ],
      "text/plain": [
       "               age          sex          bmi     children       smoker  \\\n",
       "count  1338.000000  1338.000000  1338.000000  1338.000000  1338.000000   \n",
       "mean     39.207025     0.494768    30.663397     1.094918     0.204783   \n",
       "std      14.049960     0.500160     6.098187     1.205493     0.403694   \n",
       "min      18.000000     0.000000    15.960000     0.000000     0.000000   \n",
       "25%      27.000000     0.000000    26.296250     0.000000     0.000000   \n",
       "50%      39.000000     0.000000    30.400000     1.000000     0.000000   \n",
       "75%      51.000000     1.000000    34.693750     2.000000     0.000000   \n",
       "max      64.000000     1.000000    53.130000     5.000000     1.000000   \n",
       "\n",
       "            region       charges  \n",
       "count  1338.000000   1338.000000  \n",
       "mean      1.514948  13270.422265  \n",
       "std       1.105572  12110.011237  \n",
       "min       0.000000   1121.873900  \n",
       "25%       1.000000   4740.287150  \n",
       "50%       2.000000   9382.033000  \n",
       "75%       2.000000  16639.912515  \n",
       "max       3.000000  63770.428010  "
      ]
     },
     "execution_count": 8,
     "metadata": {},
     "output_type": "execute_result"
    }
   ],
   "source": [
    "data_copy.describe()"
   ]
  },
  {
   "cell_type": "code",
   "execution_count": 9,
   "metadata": {},
   "outputs": [
    {
     "data": {
      "image/png": "[encoded data removed]",
      "text/plain": [
       "<Figure size 1000x800 with 2 Axes>"
      ]
     },
     "metadata": {},
     "output_type": "display_data"
    }
   ],
   "source": [
    "corr = data_copy.corr()\n",
    "fig, ax = plt.subplots(figsize=(10,8))\n",
    "sns.heatmap(corr,cmap='BuPu',annot=True,fmt=\".2f\",ax=ax)\n",
    "plt.title(\"Dependencies of Medical Charges\")\n",
    "\n",
    "plt.show()"
   ]
  },
  {
   "cell_type": "markdown",
   "metadata": {},
   "source": [
    "### Smoker, BMI and Age are most important factor that determnines - Charges\n",
    "Also we see that Sex, Children and Region do not affect the Charges.\n",
    "We might drop these 3 columns as they have less correlation"
   ]
  },
  {
   "cell_type": "code",
   "execution_count": 10,
   "metadata": {},
   "outputs": [
    {
     "name": "stdout",
     "output_type": "stream",
     "text": [
      "sex\n",
      "female    662\n",
      "male      676\n",
      "Name: count, dtype: int64\n",
      "smoker\n",
      "yes     274\n",
      "no     1064\n",
      "Name: count, dtype: int64\n",
      "region\n",
      "northeast    324\n",
      "southwest    325\n",
      "northwest    325\n",
      "southeast    364\n",
      "Name: count, dtype: int64\n"
     ]
    }
   ],
   "source": [
    "print(data['sex'].value_counts().sort_values()) \n",
    "print(data['smoker'].value_counts().sort_values())\n",
    "print(data['region'].value_counts().sort_values())"
   ]
  },
  {
   "cell_type": "markdown",
   "metadata": {},
   "source": [
    "### Prepating data - We can scale BMI and Charges Column before proceeding with Prediction"
   ]
  },
  {
   "cell_type": "code",
   "execution_count": 11,
   "metadata": {},
   "outputs": [],
   "source": [
    "from sklearn.preprocessing import StandardScaler\n",
    "data_pre = data_copy.copy()\n",
    "\n",
    "tempBmi = data_pre.bmi\n",
    "tempBmi = tempBmi.values.reshape(-1,1)\n",
    "data_pre['bmi'] = StandardScaler().fit_transform(tempBmi)\n",
    "\n",
    "tempAge = data_pre.age\n",
    "tempAge = tempAge.values.reshape(-1,1)\n",
    "data_pre['age'] = StandardScaler().fit_transform(tempAge)\n",
    "\n",
    "# tempCharges = data_pre.charges\n",
    "# tempCharges = tempCharges.values.reshape(-1,1)\n",
    "# data_pre['charges'] = StandardScaler().fit_transform(tempCharges)\n",
    "\n",
    "data_pre.head()\n",
    "data_pre.to_csv('new.csv', index=False)"
   ]
  },
  {
   "cell_type": "code",
   "execution_count": 12,
   "metadata": {},
   "outputs": [
    {
     "name": "stdout",
     "output_type": "stream",
     "text": [
      "Size of X_train :  (1070, 6)\n",
      "Size of y_train :  (1070, 1)\n",
      "Size of X_test :  (268, 6)\n",
      "Size of Y_test :  (268, 1)\n"
     ]
    }
   ],
   "source": [
    "X = data_pre.drop('charges',axis=1).values\n",
    "y = data_pre['charges'].values.reshape(-1,1)\n",
    "\n",
    "from sklearn.model_selection import train_test_split\n",
    "X_train, X_test, y_train, y_test = train_test_split(X,y,test_size=0.2, random_state=42)\n",
    "\n",
    "print('Size of X_train : ', X_train.shape)\n",
    "print('Size of y_train : ', y_train.shape)\n",
    "print('Size of X_test : ', X_test.shape)\n",
    "print('Size of Y_test : ', y_test.shape)"
   ]
  },
  {
   "cell_type": "code",
   "execution_count": 13,
   "metadata": {},
   "outputs": [
    {
     "data": {
      "text/plain": [
       "array([ 0.48366788,  1.        , -1.75747362,  2.        ,  0.        ,\n",
       "        0.        ])"
      ]
     },
     "execution_count": 13,
     "metadata": {},
     "output_type": "execute_result"
    }
   ],
   "source": [
    "X_train[0]"
   ]
  },
  {
   "cell_type": "code",
   "execution_count": 14,
   "metadata": {},
   "outputs": [],
   "source": [
    "import tensorflow as tf"
   ]
  },
  {
   "cell_type": "code",
   "execution_count": 15,
   "metadata": {},
   "outputs": [],
   "source": [
    "model = tf.keras.Sequential([\n",
    "    tf.keras.layers.Dense(64, activation='relu', input_shape=(X_train.shape[1],)),\n",
    "    tf.keras.layers.Dense(64, activation='relu'),\n",
    "    tf.keras.layers.Dense(1)  # Output layer (1 neuron for regression)\n",
    "])\n",
    "\n",
    "# Compile the model\n",
    "model.compile(optimizer='adam', loss='mean_squared_error', metrics=['mae'])"
   ]
  },
  {
   "cell_type": "code",
   "execution_count": 16,
   "metadata": {},
   "outputs": [
    {
     "name": "stdout",
     "output_type": "stream",
     "text": [
      "Epoch 1/50\n",
      " 1/27 [>.............................] - ETA: 0s - loss: 284783360.0000 - mae: 11987.9297WARNING:tensorflow:Callbacks method `on_test_batch_end` is slow compared to the batch time (batch time: 0.0000s vs `on_test_batch_end` time: 0.0010s). Check your callbacks.\n",
      "27/27 [==============================] - 0s 5ms/step - loss: 325433792.0000 - mae: 13517.3037 - val_loss: 310287488.0000 - val_mae: 12652.5020\n",
      "Epoch 2/50\n",
      "27/27 [==============================] - 0s 1ms/step - loss: 325298656.0000 - mae: 13512.4531 - val_loss: 310076928.0000 - val_mae: 12644.8848\n",
      "Epoch 3/50\n",
      "27/27 [==============================] - 0s 1ms/step - loss: 324923456.0000 - mae: 13499.5732 - val_loss: 309536128.0000 - val_mae: 12625.8086\n",
      "Epoch 4/50\n",
      "27/27 [==============================] - 0s 1ms/step - loss: 324079872.0000 - mae: 13470.2100 - val_loss: 308409440.0000 - val_mae: 12586.7070\n",
      "Epoch 5/50\n",
      "27/27 [==============================] - 0s 1ms/step - loss: 322412768.0000 - mae: 13414.7510 - val_loss: 306332480.0000 - val_mae: 12515.2676\n",
      "Epoch 6/50\n",
      "27/27 [==============================] - 0s 1ms/step - loss: 319593984.0000 - mae: 13318.0000 - val_loss: 302921440.0000 - val_mae: 12398.4541\n",
      "Epoch 7/50\n",
      "27/27 [==============================] - 0s 1ms/step - loss: 315226656.0000 - mae: 13169.0059 - val_loss: 297885376.0000 - val_mae: 12225.1836\n",
      "Epoch 8/50\n",
      "27/27 [==============================] - 0s 1ms/step - loss: 308887136.0000 - mae: 12957.4951 - val_loss: 291252512.0000 - val_mae: 11993.0908\n",
      "Epoch 9/50\n",
      "27/27 [==============================] - 0s 1ms/step - loss: 300818240.0000 - mae: 12666.0967 - val_loss: 282378464.0000 - val_mae: 11676.6123\n",
      "Epoch 10/50\n",
      "27/27 [==============================] - 0s 1ms/step - loss: 290581056.0000 - mae: 12296.7197 - val_loss: 271606272.0000 - val_mae: 11279.5010\n",
      "Epoch 11/50\n",
      "27/27 [==============================] - 0s 1ms/step - loss: 278432192.0000 - mae: 11839.8770 - val_loss: 259066336.0000 - val_mae: 10804.5977\n",
      "Epoch 12/50\n",
      "27/27 [==============================] - 0s 1ms/step - loss: 264315088.0000 - mae: 11307.1445 - val_loss: 245301536.0000 - val_mae: 10296.4346\n",
      "Epoch 13/50\n",
      "27/27 [==============================] - 0s 1ms/step - loss: 249010880.0000 - mae: 10730.2461 - val_loss: 230091216.0000 - val_mae: 9774.5127\n",
      "Epoch 14/50\n",
      "27/27 [==============================] - 0s 1ms/step - loss: 232762608.0000 - mae: 10110.4131 - val_loss: 214378032.0000 - val_mae: 9307.9775\n",
      "Epoch 15/50\n",
      "27/27 [==============================] - 0s 1ms/step - loss: 215951440.0000 - mae: 9516.8799 - val_loss: 198870752.0000 - val_mae: 8868.1006\n",
      "Epoch 16/50\n",
      "27/27 [==============================] - 0s 1ms/step - loss: 199748208.0000 - mae: 8976.0371 - val_loss: 183599664.0000 - val_mae: 8438.3320\n",
      "Epoch 17/50\n",
      "27/27 [==============================] - 0s 1ms/step - loss: 184441088.0000 - mae: 8531.1553 - val_loss: 169947216.0000 - val_mae: 8122.6523\n",
      "Epoch 18/50\n",
      "27/27 [==============================] - 0s 1ms/step - loss: 170932992.0000 - mae: 8229.0049 - val_loss: 158097440.0000 - val_mae: 7922.1821\n",
      "Epoch 19/50\n",
      "27/27 [==============================] - 0s 1ms/step - loss: 159461712.0000 - mae: 8053.4482 - val_loss: 148338352.0000 - val_mae: 7801.5815\n",
      "Epoch 20/50\n",
      "27/27 [==============================] - 0s 1ms/step - loss: 150321024.0000 - mae: 7969.1279 - val_loss: 140536192.0000 - val_mae: 7781.8345\n",
      "Epoch 21/50\n",
      "27/27 [==============================] - 0s 1ms/step - loss: 143441200.0000 - mae: 7983.7969 - val_loss: 134704240.0000 - val_mae: 7807.3418\n",
      "Epoch 22/50\n",
      "27/27 [==============================] - 0s 1ms/step - loss: 138253744.0000 - mae: 8028.2866 - val_loss: 130854712.0000 - val_mae: 7846.5615\n",
      "Epoch 23/50\n",
      "27/27 [==============================] - 0s 1ms/step - loss: 134926880.0000 - mae: 8119.8374 - val_loss: 127565696.0000 - val_mae: 7897.2583\n",
      "Epoch 24/50\n",
      "27/27 [==============================] - 0s 1ms/step - loss: 132091232.0000 - mae: 8167.5864 - val_loss: 125488096.0000 - val_mae: 7918.3247\n",
      "Epoch 25/50\n",
      "27/27 [==============================] - 0s 1ms/step - loss: 130202152.0000 - mae: 8217.3477 - val_loss: 123667144.0000 - val_mae: 7931.6553\n",
      "Epoch 26/50\n",
      "27/27 [==============================] - 0s 1ms/step - loss: 128538656.0000 - mae: 8230.3877 - val_loss: 122229384.0000 - val_mae: 7925.8223\n",
      "Epoch 27/50\n",
      "27/27 [==============================] - 0s 1ms/step - loss: 127106424.0000 - mae: 8240.6758 - val_loss: 120917272.0000 - val_mae: 7912.0444\n",
      "Epoch 28/50\n",
      "27/27 [==============================] - 0s 1ms/step - loss: 125831368.0000 - mae: 8239.9268 - val_loss: 119617528.0000 - val_mae: 7897.6108\n",
      "Epoch 29/50\n",
      "27/27 [==============================] - 0s 1ms/step - loss: 124673720.0000 - mae: 8263.3594 - val_loss: 118262840.0000 - val_mae: 7894.5010\n",
      "Epoch 30/50\n",
      "27/27 [==============================] - 0s 1ms/step - loss: 123375576.0000 - mae: 8251.7305 - val_loss: 117037728.0000 - val_mae: 7857.7349\n",
      "Epoch 31/50\n",
      "27/27 [==============================] - 0s 1ms/step - loss: 122137848.0000 - mae: 8196.7373 - val_loss: 115943912.0000 - val_mae: 7804.8550\n",
      "Epoch 32/50\n",
      "27/27 [==============================] - 0s 1ms/step - loss: 120938704.0000 - mae: 8161.6973 - val_loss: 114656024.0000 - val_mae: 7770.7529\n",
      "Epoch 33/50\n",
      "27/27 [==============================] - 0s 1ms/step - loss: 119693424.0000 - mae: 8125.3931 - val_loss: 113477088.0000 - val_mae: 7730.1699\n",
      "Epoch 34/50\n",
      "27/27 [==============================] - 0s 1ms/step - loss: 118472616.0000 - mae: 8081.3926 - val_loss: 112317440.0000 - val_mae: 7680.6602\n",
      "Epoch 35/50\n",
      "27/27 [==============================] - 0s 1ms/step - loss: 117247336.0000 - mae: 8046.4463 - val_loss: 111047904.0000 - val_mae: 7642.5386\n",
      "Epoch 36/50\n",
      "27/27 [==============================] - 0s 1ms/step - loss: 116050264.0000 - mae: 8032.6904 - val_loss: 109757192.0000 - val_mae: 7612.8262\n",
      "Epoch 37/50\n",
      "27/27 [==============================] - 0s 1ms/step - loss: 114791408.0000 - mae: 7991.4922 - val_loss: 108541512.0000 - val_mae: 7565.8105\n",
      "Epoch 38/50\n",
      "27/27 [==============================] - 0s 1ms/step - loss: 113531776.0000 - mae: 7926.4009 - val_loss: 107350272.0000 - val_mae: 7507.3760\n",
      "Epoch 39/50\n",
      "27/27 [==============================] - 0s 1ms/step - loss: 112245768.0000 - mae: 7894.4575 - val_loss: 106056400.0000 - val_mae: 7462.2339\n",
      "Epoch 40/50\n",
      "27/27 [==============================] - 0s 1ms/step - loss: 110950904.0000 - mae: 7838.2256 - val_loss: 104908112.0000 - val_mae: 7402.1543\n",
      "Epoch 41/50\n",
      "27/27 [==============================] - 0s 2ms/step - loss: 109681176.0000 - mae: 7781.2295 - val_loss: 103584776.0000 - val_mae: 7360.8901\n",
      "Epoch 42/50\n",
      "27/27 [==============================] - 0s 1ms/step - loss: 108365712.0000 - mae: 7762.9131 - val_loss: 102314720.0000 - val_mae: 7318.8281\n",
      "Epoch 43/50\n",
      "27/27 [==============================] - 0s 1ms/step - loss: 107039792.0000 - mae: 7698.5322 - val_loss: 101048808.0000 - val_mae: 7262.6655\n",
      "Epoch 44/50\n",
      "27/27 [==============================] - 0s 1ms/step - loss: 105681864.0000 - mae: 7658.1572 - val_loss: 99694600.0000 - val_mae: 7214.6699\n",
      "Epoch 45/50\n",
      "27/27 [==============================] - 0s 2ms/step - loss: 104359736.0000 - mae: 7625.7251 - val_loss: 98379112.0000 - val_mae: 7159.5703\n",
      "Epoch 46/50\n",
      "27/27 [==============================] - 0s 1ms/step - loss: 102952648.0000 - mae: 7551.8887 - val_loss: 97065008.0000 - val_mae: 7101.3530\n",
      "Epoch 47/50\n",
      "27/27 [==============================] - 0s 1ms/step - loss: 101567504.0000 - mae: 7502.9165 - val_loss: 95750992.0000 - val_mae: 7044.6372\n",
      "Epoch 48/50\n",
      "27/27 [==============================] - 0s 1ms/step - loss: 100157256.0000 - mae: 7454.0083 - val_loss: 94385432.0000 - val_mae: 6999.6123\n",
      "Epoch 49/50\n",
      "27/27 [==============================] - 0s 1ms/step - loss: 98757688.0000 - mae: 7379.8770 - val_loss: 93070248.0000 - val_mae: 6923.9585\n",
      "Epoch 50/50\n",
      "27/27 [==============================] - 0s 1ms/step - loss: 97252296.0000 - mae: 7334.6704 - val_loss: 91609848.0000 - val_mae: 6893.7139\n"
     ]
    }
   ],
   "source": [
    "# Train the model\n",
    "history = model.fit(X_train, y_train, epochs=50, batch_size=32, validation_split=0.2)"
   ]
  },
  {
   "cell_type": "code",
   "execution_count": 17,
   "metadata": {},
   "outputs": [
    {
     "name": "stdout",
     "output_type": "stream",
     "text": [
      "9/9 [==============================] - 0s 515us/step - loss: 97145000.0000 - mae: 7468.3447\n",
      "Test Loss: 97145000.0, Test MAE: 7468.3447265625\n"
     ]
    }
   ],
   "source": [
    "# Evaluate the model on the test set\n",
    "loss, mae = model.evaluate(X_test, y_test)\n",
    "print(f\"Test Loss: {loss}, Test MAE: {mae}\")"
   ]
  },
  {
   "cell_type": "code",
   "execution_count": 18,
   "metadata": {},
   "outputs": [
    {
     "data": {
      "text/plain": [
       "array([[12908.951 ],\n",
       "       [ 6134.7056],\n",
       "       [18334.123 ],\n",
       "       [10834.225 ],\n",
       "       [ 7447.996 ],\n",
       "       [16186.83  ],\n",
       "       [  998.9433],\n",
       "       [12687.204 ],\n",
       "       [ 2741.3633],\n",
       "       [12477.529 ]], dtype=float32)"
      ]
     },
     "execution_count": 18,
     "metadata": {},
     "output_type": "execute_result"
    }
   ],
   "source": [
    "# Make predictions\n",
    "predictions = model.predict(X_test)\n",
    "predictions[:10]"
   ]
  },
  {
   "cell_type": "code",
   "execution_count": 19,
   "metadata": {},
   "outputs": [
    {
     "data": {
      "text/plain": [
       "array([[ 9095.06825],\n",
       "       [ 5272.1758 ],\n",
       "       [29330.98315],\n",
       "       [ 9301.89355],\n",
       "       [33750.2918 ],\n",
       "       [ 4536.259  ],\n",
       "       [ 2117.33885],\n",
       "       [14210.53595],\n",
       "       [ 3732.6251 ],\n",
       "       [10264.4421 ]])"
      ]
     },
     "execution_count": 19,
     "metadata": {},
     "output_type": "execute_result"
    }
   ],
   "source": [
    "y_test[:10]"
   ]
  },
  {
   "cell_type": "code",
   "execution_count": null,
   "metadata": {},
   "outputs": [],
   "source": []
  },
  {
   "cell_type": "markdown",
   "metadata": {},
   "source": [
    "# TESTING DATA"
   ]
  },
  {
   "cell_type": "code",
   "execution_count": null,
   "metadata": {},
   "outputs": [],
   "source": [
    "import pickle\n",
    "\n",
    "Pkl_Filename = \"rf_tuned.pkl\"  \n",
    "\n",
    "with open(Pkl_Filename, 'wb') as file:  \n",
    "    pickle.dump(rf_reg, file)"
   ]
  }
 ],
 "metadata": {
  "kernelspec": {
   "display_name": "Python 3 (ipykernel)",
   "language": "python",
   "name": "python3"
  },
  "language_info": {
   "codemirror_mode": {
    "name": "ipython",
    "version": 3
   },
   "file_extension": ".py",
   "mimetype": "text/x-python",
   "name": "python",
   "nbconvert_exporter": "python",
   "pygments_lexer": "ipython3",
   "version": "3.8.13"
  }
 },
 "nbformat": 4,
 "nbformat_minor": 4
}
