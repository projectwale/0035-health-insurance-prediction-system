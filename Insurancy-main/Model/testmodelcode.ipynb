{
 "cells": [
  {
   "cell_type": "code",
   "execution_count": 6,
   "id": "aa8b00ce",
   "metadata": {},
   "outputs": [],
   "source": [
    "# import pickle\n",
    "# import numpy as np\n",
    "\n",
    "# import numpy as np\n",
    "# from sklearn.ensemble import RandomForestRegressor\n",
    "\n",
    "# # Load the trained regression model from a pickle file\n",
    "# model_filename = \"rf_tuned.pkl\"\n",
    "\n",
    "# with open(model_filename, 'rb') as file:\n",
    "#     regression_model = pickle.load(file)\n",
    "\n",
    "# # Example input for prediction (replace with your actual input features)\n",
    "# input_features = np.array([20, 2, 28, 1, 1, 0]).reshape(1,6)\n",
    "\n",
    "# # Make predictions using the loaded model\n",
    "# prediction = regression_model.predict(input_features)\n",
    "\n",
    "# print(\"Prediction:\", prediction)\n"
   ]
  },
  {
   "cell_type": "code",
   "execution_count": 11,
   "id": "38e29d7c",
   "metadata": {},
   "outputs": [],
   "source": [
    "import pickle\n",
    "import numpy as np\n",
    "\n",
    "Pkl_Filename = \"rf_tuned.pkl\" \n",
    "\n",
    "features=[33, 0, 25, 0, 1, 0]"
   ]
  },
  {
   "cell_type": "code",
   "execution_count": 12,
   "id": "d3ee334e",
   "metadata": {},
   "outputs": [],
   "source": [
    "# Load the Model back from file\n",
    "with open(Pkl_Filename, 'rb') as file:  \n",
    "    rf_tuned_loaded = pickle.load(file)"
   ]
  },
  {
   "cell_type": "code",
   "execution_count": 13,
   "id": "9a1cb122",
   "metadata": {},
   "outputs": [],
   "source": [
    "pred=rf_tuned_loaded.predict(np.array(features).reshape(1,6))[0]"
   ]
  },
  {
   "cell_type": "code",
   "execution_count": 14,
   "id": "95e4881a",
   "metadata": {},
   "outputs": [
    {
     "data": {
      "text/plain": [
       "19310.762270071024"
      ]
     },
     "execution_count": 14,
     "metadata": {},
     "output_type": "execute_result"
    }
   ],
   "source": [
    "pred"
   ]
  },
  {
   "cell_type": "code",
   "execution_count": null,
   "id": "6325b4ab",
   "metadata": {},
   "outputs": [],
   "source": []
  },
  {
   "cell_type": "code",
   "execution_count": null,
   "id": "679658ab",
   "metadata": {},
   "outputs": [],
   "source": []
  }
 ],
 "metadata": {
  "kernelspec": {
   "display_name": "Python 3 (ipykernel)",
   "language": "python",
   "name": "python3"
  },
  "language_info": {
   "codemirror_mode": {
    "name": "ipython",
    "version": 3
   },
   "file_extension": ".py",
   "mimetype": "text/x-python",
   "name": "python",
   "nbconvert_exporter": "python",
   "pygments_lexer": "ipython3",
   "version": "3.8.13"
  }
 },
 "nbformat": 4,
 "nbformat_minor": 5
}
